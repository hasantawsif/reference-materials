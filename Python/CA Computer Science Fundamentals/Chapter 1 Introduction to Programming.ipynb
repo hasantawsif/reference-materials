{
 "cells": [
  {
   "cell_type": "markdown",
   "metadata": {},
   "source": [
    "# Chapter 1: Introduction to Python Programming"
   ]
  },
  {
   "cell_type": "markdown",
   "metadata": {},
   "source": [
    "### LEARN PYTHON: SYNTAX\n",
    "Welcome\n",
    "Python is a programming language. Like other languages, it gives us a way to communicate ideas. In the case of a programming language, these ideas are “commands” that people use to communicate with a computer!\n",
    "We convey our commands to the computer by writing them in a text file using a programming language. These files are called programs. Running a program means telling a computer to read the text file, translate it to the set of operations that it understands, and perform those actions.\n"
   ]
  },
  {
   "cell_type": "markdown",
   "metadata": {},
   "source": [
    "### Instructions\n",
    "Change Codecademy to your name in the script to the right. Run the code to see what it does! As soon as you’re ready, move on to the next exercise to begin learning to write your own Python programs!\n",
    "Want to quickly review some of the concepts you’ve been learning? Take a look at this material's cheatsheet!\n"
   ]
  },
  {
   "cell_type": "code",
   "execution_count": 2,
   "metadata": {},
   "outputs": [
    {
     "name": "stdout",
     "output_type": "stream",
     "text": [
      "Hello and welcome Tawsif Hasan!\n"
     ]
    }
   ],
   "source": [
    "my_name = \"Tawsif Hasan\"\n",
    "print(\"Hello and welcome \" + my_name + \"!\")\n"
   ]
  },
  {
   "cell_type": "markdown",
   "metadata": {},
   "source": [
    "### Comments\n",
    "Ironically, the first thing we’re going to do is show how to tell a computer to ignore a part of a program. Text written in a program but not run by the computer is called a comment. Python interprets anything after a # as a comment.\n",
    "Comments can:\n",
    "Provide context for why something is written the way it is:\n"
   ]
  },
  {
   "cell_type": "code",
   "execution_count": 4,
   "metadata": {},
   "outputs": [],
   "source": [
    "# This variable will be used to count the number of times anyone tweets the word persnickety\n",
    "persnickety_count = 0"
   ]
  },
  {
   "cell_type": "markdown",
   "metadata": {},
   "source": [
    "Help other people reading the code understand it faster:\n",
    "This code will calculate the likelihood that it will rain tomorrow\n",
    "complicated_rain_calculation_for_tomorrow()\n",
    "Ignore a line of code and see how a program will run without it:\n",
    "useful_value = old_sloppy_code()\n",
    "useful_value = new_clean_code()"
   ]
  },
  {
   "cell_type": "markdown",
   "metadata": {},
   "source": [
    "### Instructions\n",
    "Documentation is an important step in programming. Write a comment describing the first program you want to write!\n",
    "Use a hashtag before a line to use the line as a comment\n",
    "Print\n",
    "Now what we’re going to do is teach our computer to communicate. The gift of speech is valuable: a computer can answer many questions we have about “how” or “why” or “what” it is doing. In Python, the print() function is used to tell a computer to talk. The message to be printed should be surrounded by quotes:"
   ]
  },
  {
   "cell_type": "code",
   "execution_count": 5,
   "metadata": {},
   "outputs": [
    {
     "name": "stdout",
     "output_type": "stream",
     "text": [
      "There is something at work in my soul, which I do not understand.\n"
     ]
    }
   ],
   "source": [
    "# from Mary Shelley's Frankenstein\n",
    "print(\"There is something at work in my soul, which I do not understand.\")\n"
   ]
  },
  {
   "cell_type": "markdown",
   "metadata": {},
   "source": [
    "In the above example, we direct our program to print() an excerpt from a notable book. The printed words that appear as a result of the print() function are referred to as output. The output of this example program would be:\n",
    "There is something at work in my soul, which I do not understand."
   ]
  },
  {
   "cell_type": "markdown",
   "metadata": {},
   "source": [
    "### Instructions\n",
    "Print the distinguished greeting “Hello world!”"
   ]
  },
  {
   "cell_type": "code",
   "execution_count": 6,
   "metadata": {},
   "outputs": [
    {
     "name": "stdout",
     "output_type": "stream",
     "text": [
      "Hello World\n"
     ]
    }
   ],
   "source": [
    "print(\"Hello World\")"
   ]
  },
  {
   "cell_type": "markdown",
   "metadata": {},
   "source": [
    "### Strings\n",
    "Computer programmers refer to blocks of text as strings. In our last exercise, we created the string “Hello world!”. In Python a string is either surrounded by double quotes (\"Hello world\") or single quotes ('Hello world'). It doesn’t matter which kind you use, just be consistent."
   ]
  },
  {
   "cell_type": "markdown",
   "metadata": {},
   "source": [
    "### Instructions\n",
    "Print your name using the print() command."
   ]
  },
  {
   "cell_type": "code",
   "execution_count": 7,
   "metadata": {},
   "outputs": [
    {
     "name": "stdout",
     "output_type": "stream",
     "text": [
      "Tawsif Hasan\n"
     ]
    }
   ],
   "source": [
    "print('Tawsif Hasan')"
   ]
  },
  {
   "cell_type": "markdown",
   "metadata": {},
   "source": [
    "### Variables\n",
    "Programming languages offer a method of storing data for reuse. If there is a greeting we want to present, a date we need to reuse, or a user ID we need to remember we can create a variable which can store a value. In Python, we assign variables by using the equals sign (=).\n",
    "message_string = \"Hello there\""
   ]
  },
  {
   "cell_type": "code",
   "execution_count": 9,
   "metadata": {},
   "outputs": [
    {
     "name": "stdout",
     "output_type": "stream",
     "text": [
      "Hello there\n"
     ]
    }
   ],
   "source": [
    "message_string = \"Hello there\"\n",
    "# Prints \"Hello there\"\n",
    "print(message_string)"
   ]
  },
  {
   "cell_type": "markdown",
   "metadata": {},
   "source": [
    "In the above example, we store the message “Hello there” in a variable called message_string. Variables can’t have spaces or symbols in their names other than an underscore (_). They can’t begin with numbers but they can have numbers after the first letter (e.g., cool_variable_5 is OK).\n",
    "It’s no coincidence we call these creatures “variables”. If the context of a program changes, we can update a variable but perform the same logical process on it."
   ]
  },
  {
   "cell_type": "code",
   "execution_count": 10,
   "metadata": {},
   "outputs": [
    {
     "name": "stdout",
     "output_type": "stream",
     "text": [
      "Hello there\n",
      "Hasta la vista\n"
     ]
    }
   ],
   "source": [
    "# Greeting\n",
    "message_string = \"Hello there\"\n",
    "print(message_string)\n",
    "# Farewell\n",
    "message_string = \"Hasta la vista\"\n",
    "print(message_string)"
   ]
  },
  {
   "cell_type": "markdown",
   "metadata": {},
   "source": [
    "Above, we create the variable message_string, assign a welcome message, and print the greeting. After we greet the user, we want to wish them goodbye. We then update message_string to a departure message and print that out."
   ]
  },
  {
   "cell_type": "markdown",
   "metadata": {},
   "source": [
    "### Instructions\n",
    "Update the variable meal to reflect each meal of the day before we print it."
   ]
  },
  {
   "cell_type": "code",
   "execution_count": 11,
   "metadata": {},
   "outputs": [
    {
     "name": "stdout",
     "output_type": "stream",
     "text": [
      "Breakfast:\n",
      "An english muffin\n",
      "Lunch:\n",
      "Biriyani\n",
      "Dinner:\n",
      "Korean Fried Chicken\n"
     ]
    }
   ],
   "source": [
    "# We've defined the variable \"meal\" here to the name of the food we ate for breakfast!\n",
    "meal = \"An english muffin\"\n",
    "\n",
    "# Printing out breakfast\n",
    "print(\"Breakfast:\")\n",
    "print(meal)\n",
    "\n",
    "# Now update meal to be lunch!\n",
    "meal = \"Biriyani\"\n",
    "\n",
    "# Printing out lunch\n",
    "print(\"Lunch:\")\n",
    "print(meal)\n",
    "\n",
    "# Now update \"meal\" to be dinner\n",
    "meal = \"Korean Fried Chicken\"\n",
    "# Printing out dinner\n",
    "print(\"Dinner:\")\n",
    "print(meal)\n"
   ]
  },
  {
   "cell_type": "markdown",
   "metadata": {},
   "source": [
    "### Errors\n",
    "Humans are prone to making mistakes. Humans are also typically in charge of creating computer programs. To compensate, programming languages attempt to understand and explain mistakes made in their programs.\n",
    "Python refers to these mistakes as errors and will point to the location where an error occurred with a ^ character. When programs throw errors that we didn’t expect to encounter we call those errors bugs. Programmers call the process of updating the program so that it no longer produces unexpected errors debugging.\n",
    "Two common errors that we encounter while writing Python are SyntaxError and NameError.\n",
    "SyntaxError means there is something wrong with the way your program is written — punctuation that does not belong, a command where it is not expected, or a missing parenthesis can all trigger a SyntaxError.\n",
    "A NameError occurs when the Python interpreter sees a word it does not recognize. Code that contains something that looks like a variable but was never defined will throw a NameError."
   ]
  },
  {
   "cell_type": "markdown",
   "metadata": {},
   "source": [
    "### Instructions\n",
    "You might encounter a SyntaxError if you open a string with double quotes and end it with a single quote. Update the string so that it starts and ends with the same punctuation.\n",
    "You might encounter a NameError if you try to print a single word string but fail to put any quotes around it. Python expects the word of your string to be defined elsewhere but can’t find where it’s defined. Add quotes to either side of the string to squash this bug.\n",
    "Update the malformed strings in the workspace to all be strings."
   ]
  },
  {
   "cell_type": "code",
   "execution_count": 12,
   "metadata": {},
   "outputs": [
    {
     "ename": "SyntaxError",
     "evalue": "EOL while scanning string literal (<ipython-input-12-88e514335255>, line 1)",
     "output_type": "error",
     "traceback": [
      "\u001b[1;36m  File \u001b[1;32m\"<ipython-input-12-88e514335255>\"\u001b[1;36m, line \u001b[1;32m1\u001b[0m\n\u001b[1;33m    print('This message has mismatched quote marks!\")\u001b[0m\n\u001b[1;37m                                                     ^\u001b[0m\n\u001b[1;31mSyntaxError\u001b[0m\u001b[1;31m:\u001b[0m EOL while scanning string literal\n"
     ]
    }
   ],
   "source": [
    "print('This message has mismatched quote marks!\")\n",
    "print(Abracadabra)"
   ]
  },
  {
   "cell_type": "markdown",
   "metadata": {},
   "source": [
    "After fixing"
   ]
  },
  {
   "cell_type": "code",
   "execution_count": 13,
   "metadata": {},
   "outputs": [
    {
     "name": "stdout",
     "output_type": "stream",
     "text": [
      "This message has mismatched quote marks!\n",
      "Abracadabra\n"
     ]
    }
   ],
   "source": [
    "print('This message has mismatched quote marks!')\n",
    "print('Abracadabra')"
   ]
  },
  {
   "cell_type": "markdown",
   "metadata": {},
   "source": [
    "### Numbers\n",
    "Computers can understand much more than just strings of text. Python has a few numeric data types. It has multiple ways of storing numbers. Which one you use depends on your intended purpose for the number you are saving.\n",
    "An integer, or int, is a whole number. It has no decimal point and contains all counting numbers (1, 2, 3, …) as well as their negative counterparts and the number 0. If you were counting the number of people in a room, the number of jellybeans in a jar, or the number of keys on a keyboard you would likely use an integer.\n",
    "A floating-point number, or a float, is a decimal number. It can be used to represent fractional quantities as well as precise measurements. If you were measuring the length of your bedroom wall, calculating the average test score of a seventh-grade class, or storing a baseball player’s batting average for the 1998 season you would likely use a float.\n",
    "Numbers can be assigned to variables or used literally in a program:"
   ]
  },
  {
   "cell_type": "code",
   "execution_count": 15,
   "metadata": {},
   "outputs": [
    {
     "name": "stdout",
     "output_type": "stream",
     "text": [
      "5\n"
     ]
    }
   ],
   "source": [
    "an_int = 2\n",
    "a_float = 2.1\n",
    "\n",
    "print(an_int + 3)\n"
   ]
  },
  {
   "cell_type": "markdown",
   "metadata": {},
   "source": [
    "Above we defined an integer and a float as the variables an_int and a_float. We printed out the sum of the variable an_int with the number 3. We call the number 3 here a literal, meaning it’s actually the number 3 and not a variable with the number 3 assigned to it.\n",
    "Floating-point numbers can behave in some unexpected ways due to how computers store them. For more information on floating-point numbers and Python, review Python’s documentation on floating-point limitations."
   ]
  },
  {
   "cell_type": "markdown",
   "metadata": {},
   "source": [
    "### Instructions\n",
    "A recent movie-going experience has you excited to publish a review. You rush out of the cinema and hastily begin programming to create your movie-review website: The Big Screen’s Greatest Scenes Decided By A Machine.\n",
    "Create the following variables and assign integer numbers to them: release_year and runtime."
   ]
  },
  {
   "cell_type": "code",
   "execution_count": 16,
   "metadata": {},
   "outputs": [],
   "source": [
    "# Define the release and runtime integer variables below:\n",
    "release_year = 2001\n",
    "runtime = 2"
   ]
  },
  {
   "cell_type": "markdown",
   "metadata": {},
   "source": [
    "Now, create the variable rating_out_of_10 and assign it a float number between one and ten."
   ]
  },
  {
   "cell_type": "code",
   "execution_count": 17,
   "metadata": {},
   "outputs": [],
   "source": [
    "# Define the rating_out_of_10 float variable below: \n",
    "rating_out_of_10 = 8.2"
   ]
  },
  {
   "cell_type": "markdown",
   "metadata": {},
   "source": [
    "### Calculations\n",
    "Computers absolutely excel at performing calculations. The “compute” in their name comes from their historical association with providing answers to mathematical questions. Python performs addition, subtraction, multiplication, and division with +, -, *, and /."
   ]
  },
  {
   "cell_type": "code",
   "execution_count": 18,
   "metadata": {},
   "outputs": [
    {
     "name": "stdout",
     "output_type": "stream",
     "text": [
      "500\n",
      "50\n",
      "2.0\n"
     ]
    }
   ],
   "source": [
    "# Prints \"500\"\n",
    "print(573 - 74 + 1)\n",
    "\n",
    "# Prints \"50\"\n",
    "print(25 * 2)\n",
    "\n",
    "# Prints \"2.0\"\n",
    "print(10 / 5)"
   ]
  },
  {
   "cell_type": "markdown",
   "metadata": {},
   "source": [
    "Notice that when we perform division, the result has a decimal place. This is because Python converts all ints to floats before performing division. In older versions of Python (2.7 and earlier) this conversion did not happen, and integer division would always round down to the nearest integer.\n",
    "Division can throw its own special error: ZeroDivisionError. Python will raise this error when attempting to divide by 0.\n",
    "Mathematical operations in Python follow the standard mathematical order of operations."
   ]
  },
  {
   "cell_type": "code",
   "execution_count": 19,
   "metadata": {},
   "outputs": [
    {
     "name": "stdout",
     "output_type": "stream",
     "text": [
      "1700.4642857142858\n"
     ]
    }
   ],
   "source": [
    "#Print out the result of this equation: 25 * 68 + 13 / 28\n",
    "print(25 * 68 + 13/28)"
   ]
  },
  {
   "cell_type": "markdown",
   "metadata": {},
   "source": [
    "### Changing Numbers\n",
    "Variables that are assigned numeric values can be treated the same as the numbers themselves. Two variables can be added together, divided by 2, and multiplied by a third variable without Python distinguishing between the variables and literals (like the number 2 in this example). Performing arithmetic on variables does not change the variable — you can only update a variable using the = sign."
   ]
  },
  {
   "cell_type": "code",
   "execution_count": 20,
   "metadata": {},
   "outputs": [
    {
     "name": "stdout",
     "output_type": "stream",
     "text": [
      "6.0\n",
      "1.5\n",
      "4\n",
      "8.0\n",
      "2.0\n",
      "4\n"
     ]
    }
   ],
   "source": [
    "coffee_price = 1.50\n",
    "number_of_coffees = 4\n",
    "\n",
    "# Prints \"6.0\"\n",
    "print(coffee_price * number_of_coffees)\n",
    "# Prints \"1.5\"\n",
    "print(coffee_price)\n",
    "# Prints \"4\"\n",
    "print(number_of_coffees)\n",
    "\n",
    "# Updating the price \n",
    "coffee_price = 2.00\n",
    "\n",
    "# Prints \"8.0\"\n",
    "print(coffee_price * number_of_coffees)\n",
    "# Prints \"2.0\"\n",
    "print(coffee_price)\n",
    "# Prints \"4\"\n",
    "print(number_of_coffees)"
   ]
  },
  {
   "cell_type": "markdown",
   "metadata": {},
   "source": [
    "We create two variables and assign numeric values to them. Then we perform a calculation on them. This doesn’t update the variables! When we update the coffee_price variable and perform the calculations again, they use the updated values for the variable!\n",
    "You’ve decided to get into quilting! To calculate the number of squares you’ll need for your first quilt let’s create two variables: quilt_width and quilt_length. Let’s make this first quilt 8 squares wide and 12 squares long."
   ]
  },
  {
   "cell_type": "code",
   "execution_count": 23,
   "metadata": {},
   "outputs": [
    {
     "name": "stdout",
     "output_type": "stream",
     "text": [
      "96\n"
     ]
    }
   ],
   "source": [
    "quilt_width = 8\n",
    "quilt_length = 12\n",
    "#Print out the number of squares you’ll need to create the quilt!\n",
    "print(quilt_width * quilt_length)"
   ]
  },
  {
   "cell_type": "markdown",
   "metadata": {},
   "source": [
    "It turns out that quilt required a little more material than you have on hand! Let’s only make the quilt 8 squares long. How many squares will you need for this quilt instead?"
   ]
  },
  {
   "cell_type": "code",
   "execution_count": 24,
   "metadata": {},
   "outputs": [
    {
     "name": "stdout",
     "output_type": "stream",
     "text": [
      "64\n"
     ]
    }
   ],
   "source": [
    "quilt_length = 8\n",
    "print(quilt_width * quilt_length)"
   ]
  },
  {
   "cell_type": "markdown",
   "metadata": {},
   "source": [
    "### Exponents\n",
    "Python can also perform exponentiation. In written math, you might see an exponent as a superscript number, but typing superscript numbers isn’t always easy on modern keyboards. Since this operation is so related to multiplication, we use the notation **."
   ]
  },
  {
   "cell_type": "code",
   "execution_count": 25,
   "metadata": {},
   "outputs": [
    {
     "name": "stdout",
     "output_type": "stream",
     "text": [
      "1024\n",
      "64\n",
      "729\n",
      "2.0\n"
     ]
    }
   ],
   "source": [
    "# 2 to the 10th power, or 1024\n",
    "print(2 ** 10)\n",
    "\n",
    "# 8 squared, or 64\n",
    "print(8 ** 2)\n",
    "\n",
    "# 9 * 9 * 9, 9 cubed, or 729\n",
    "print(9 ** 3)\n",
    "\n",
    "# We can even perform fractional exponents\n",
    "# 4 to the half power, or 2\n",
    "print(4 ** 0.5)"
   ]
  },
  {
   "cell_type": "markdown",
   "metadata": {},
   "source": [
    "Here, we compute some simple exponents. We calculate 2 to the 10th power, 8 to the 2nd power, 9 to the 3rd power, and 4 to the 0.5th power.\n",
    "You really like how the square quilts from last exercise came out, and decide that all quilts that you make will be square from now on.\n",
    "Using the exponent operator, print out how many squares you’ll need for a 6x6 quilt, a 7x7 quilt, and an 8x8 quilt."
   ]
  },
  {
   "cell_type": "code",
   "execution_count": 26,
   "metadata": {},
   "outputs": [
    {
     "name": "stdout",
     "output_type": "stream",
     "text": [
      "36\n",
      "49\n",
      "64\n"
     ]
    }
   ],
   "source": [
    "print(6 ** 2)\n",
    "print(7 ** 2)\n",
    "print(8 ** 2)\n"
   ]
  },
  {
   "cell_type": "markdown",
   "metadata": {},
   "source": [
    "Your 6x6 quilts have taken off so well, 6 people have each requested 6 quilts. Print out how many tiles you would need to make 6 quilts apiece for 6 people."
   ]
  },
  {
   "cell_type": "code",
   "execution_count": 27,
   "metadata": {},
   "outputs": [
    {
     "name": "stdout",
     "output_type": "stream",
     "text": [
      "1296\n"
     ]
    }
   ],
   "source": [
    "print(6 ** 4)"
   ]
  },
  {
   "cell_type": "markdown",
   "metadata": {},
   "source": [
    "### Modulo\n",
    "Python offers a companion to the division operator called the modulo operator. The modulo operator is indicated by % and gives the remainder of a division calculation. If the number is divisible, then the result of the modulo operator will be 0."
   ]
  },
  {
   "cell_type": "code",
   "execution_count": 29,
   "metadata": {},
   "outputs": [
    {
     "name": "stdout",
     "output_type": "stream",
     "text": [
      "4\n",
      "2\n",
      "0\n"
     ]
    }
   ],
   "source": [
    "# Prints 4 because 29 / 5 is 5 with a remainder of 4\n",
    "print(29 % 5)\n",
    "\n",
    "# Prints 2 because 32 / 3 is 10 with a remainder of 2\n",
    "print(32 % 3)\n",
    "\n",
    "# Modulo by 2 returns 0 for even numbers and 1 for odd numbers\n",
    "# Prints 0\n",
    "print(44 % 2)"
   ]
  },
  {
   "cell_type": "markdown",
   "metadata": {},
   "source": [
    "Here, we use the modulo operator to find the remainder of division operations. We see that 29 % 5 equals 4, 32 % 3 equals 2, and 44 % 2 equals 0.\n",
    "The modulo operator is useful in programming when we want to perform an action every nth-time the code is run. Can the result of a modulo operation be larger than the divisor? Why or why not?\n",
    "You’re trying to divide a group into four teams. All of you count off, and you get number 27.\n",
    "Find out your team by computing 27 modulo 4. Save the value to my_team."
   ]
  },
  {
   "cell_type": "code",
   "execution_count": 30,
   "metadata": {},
   "outputs": [],
   "source": [
    "my_team = 27 % 4"
   ]
  },
  {
   "cell_type": "markdown",
   "metadata": {},
   "source": [
    "Print out my_team. What number team are you on?\n",
    "Food for thought: what number team are the two people next to you (26 and 28) on? What are the numbers for all 4 teams?"
   ]
  },
  {
   "cell_type": "code",
   "execution_count": 31,
   "metadata": {},
   "outputs": [
    {
     "name": "stdout",
     "output_type": "stream",
     "text": [
      "2\n",
      "0\n"
     ]
    }
   ],
   "source": [
    "print(26%4)\n",
    "print(28%4)"
   ]
  },
  {
   "cell_type": "markdown",
   "metadata": {},
   "source": [
    "### Concatenation\n",
    "The + operator doesn’t just add two numbers, it can also “add” two strings! The process of combining two strings is called string concatenation. Performing string concatenation creates a brand new string comprised of the first string’s contents followed by the second string’s contents (without any added space in-between)."
   ]
  },
  {
   "cell_type": "code",
   "execution_count": 33,
   "metadata": {},
   "outputs": [
    {
     "name": "stdout",
     "output_type": "stream",
     "text": [
      "Hey there!How are you doing?\n"
     ]
    }
   ],
   "source": [
    "greeting_text = \"Hey there!\"\n",
    "question_text = \"How are you doing?\"\n",
    "full_text = greeting_text + question_text\n",
    "\n",
    "# Prints \"Hey there!How are you doing?\"\n",
    "print(full_text)\n"
   ]
  },
  {
   "cell_type": "markdown",
   "metadata": {},
   "source": [
    "In this sample of code, we create two variables that hold strings and then concatenate them. But we notice that the result was missing a space between the two, let’s add the space in-between using the same concatenation operator!"
   ]
  },
  {
   "cell_type": "code",
   "execution_count": 34,
   "metadata": {},
   "outputs": [
    {
     "name": "stdout",
     "output_type": "stream",
     "text": [
      "Hey there! How are you doing?\n"
     ]
    }
   ],
   "source": [
    "full_text = greeting_text + \" \" + question_text\n",
    "# Prints \"Hey there! How are you doing?\"\n",
    "print(full_text)\n"
   ]
  },
  {
   "cell_type": "markdown",
   "metadata": {},
   "source": [
    "Now the code prints the message we expected.\n",
    "If you want to concatenate a string with a number you will need to make the number a string first, using the str() function. If you’re trying to print() a numeric variable you can use commas to pass it as a different argument rather than converting it to a string."
   ]
  },
  {
   "cell_type": "code",
   "execution_count": 35,
   "metadata": {},
   "outputs": [
    {
     "name": "stdout",
     "output_type": "stream",
     "text": [
      "I am 10 years old today!\n",
      "I am  10  years old today!\n"
     ]
    }
   ],
   "source": [
    "birthday_string = \"I am \"\n",
    "age = 10\n",
    "birthday_string_2 = \" years old today!\"\n",
    "\n",
    "# Concatenating an integer with strings is possible if we turn the integer into a string first\n",
    "full_birthday_string = birthday_string + str(age) + birthday_string_2\n",
    "\n",
    "# Prints \"I am 10 years old today!\"\n",
    "print(full_birthday_string)\n",
    "\n",
    "# If we just want to print an integer \n",
    "# we can pass a variable as an argument to \n",
    "# print() regardless of whether \n",
    "# it is a string.\n",
    "\n",
    "# This also prints \"I am 10 years old today!\"\n",
    "print(birthday_string, age, birthday_string_2)"
   ]
  },
  {
   "cell_type": "markdown",
   "metadata": {},
   "source": [
    "Using str() we can convert variables that are not strings to strings and then concatenate them. But we don’t need to convert a number to a string for it to be an argument to a print statement."
   ]
  },
  {
   "cell_type": "code",
   "execution_count": 36,
   "metadata": {},
   "outputs": [
    {
     "name": "stdout",
     "output_type": "stream",
     "text": [
      "The wind, which had hitherto carried us along with amazing rapidity, sank at sunset to a light breeze; the soft air just ruffled the water and caused a pleasant motion among the trees as we approached the shore, from which it wafted the most delightful scent of flowers and hay.\n"
     ]
    }
   ],
   "source": [
    "string1 = \"The wind, \"\n",
    "string2 = \"which had hitherto carried us along with amazing rapidity, \"\n",
    "string3 = \"sank at sunset to a light breeze; \"\n",
    "string4 = \"the soft air just ruffled the water and \"\n",
    "string5 = \"caused a pleasant motion among the trees as we approached the shore, \"\n",
    "string6 = \"from which it wafted the most delightful scent of flowers and hay.\"\n",
    "\n",
    "# Define message below:\n",
    "message = string1 + string2 + string3 + string4 + string5 + string6\n",
    "\n",
    "#print(message)\n",
    "print(message)"
   ]
  },
  {
   "cell_type": "markdown",
   "metadata": {},
   "source": [
    "### Plus Equals\n",
    "Python offers a shorthand for updating variables. When you have a number saved in a variable and want to add to the current value of the variable, you can use the += (plus-equals) operator."
   ]
  },
  {
   "cell_type": "code",
   "execution_count": 37,
   "metadata": {},
   "outputs": [
    {
     "name": "stdout",
     "output_type": "stream",
     "text": [
      "14\n"
     ]
    }
   ],
   "source": [
    "# First we have a variable with a number saved\n",
    "number_of_miles_hiked = 12\n",
    "\n",
    "# Then we need to update that variable\n",
    "# Let's say we hike another two miles today\n",
    "number_of_miles_hiked += 2\n",
    "\n",
    "# The new value is the old value\n",
    "# Plus the number after the plus-equals\n",
    "print(number_of_miles_hiked)\n",
    "# Prints 14"
   ]
  },
  {
   "cell_type": "markdown",
   "metadata": {},
   "source": [
    "Above, we keep a running count of the number of miles a person has gone hiking over time. Instead of recalculating from the start, we keep a grand total and update it when we’ve gone hiking further.\n",
    "The plus-equals operator also can be used for string concatenation, like so:"
   ]
  },
  {
   "cell_type": "code",
   "execution_count": 39,
   "metadata": {},
   "outputs": [
    {
     "name": "stdout",
     "output_type": "stream",
     "text": [
      "What an amazing time to walk through nature! #nofilter #blessed\n"
     ]
    }
   ],
   "source": [
    "hike_caption = \"What an amazing time to walk through nature!\"\n",
    "# Almost forgot the hashtags!\n",
    "hike_caption += \" #nofilter\"\n",
    "hike_caption += \" #blessed\"\n",
    "\n",
    "print(hike_caption)"
   ]
  },
  {
   "cell_type": "markdown",
   "metadata": {},
   "source": [
    "We create the social media caption for the photograph of nature we took on our hike, but then update the caption to include important social media tags we almost forgot.\n",
    "We’re doing a little bit of online shopping and find a pair of new sneakers. Right before we check out, we spot a nice sweater and some fun books we also want to purchase!\n",
    "Use the += operator to update the total_price to include the prices of nice_sweater and fun_books.\n",
    "The prices (also included in the workspace) are:\n",
    "new_sneakers = 50.00\n",
    "nice_sweater = 39.00\n",
    "fun_books = 20.00"
   ]
  },
  {
   "cell_type": "code",
   "execution_count": 41,
   "metadata": {},
   "outputs": [
    {
     "name": "stdout",
     "output_type": "stream",
     "text": [
      "The total price is 109.0\n"
     ]
    }
   ],
   "source": [
    "total_price = 0\n",
    "new_sneakers = 50.00\n",
    "total_price += new_sneakers\n",
    "nice_sweater = 39.00\n",
    "fun_books = 20.00\n",
    "# Update total_price here:\n",
    "total_price += fun_books + nice_sweater\n",
    "print(\"The total price is\", total_price)"
   ]
  },
  {
   "cell_type": "markdown",
   "metadata": {},
   "source": [
    "### Multi-line Strings\n",
    "Python strings are very flexible, but if we try to create a string that occupies multiple lines we find ourselves face-to-face with a SyntaxError. Python offers a solution: multi-line strings. By using three quote-marks (\"\"\" or ''') instead of one, we tell the program that the string doesn’t end until the next triple-quote. This method is useful if the string being defined contains a lot of quotation marks and we want to be sure we don’t close it prematurely."
   ]
  },
  {
   "cell_type": "code",
   "execution_count": 45,
   "metadata": {},
   "outputs": [
    {
     "name": "stdout",
     "output_type": "stream",
     "text": [
      "\n",
      "Poets to come! orators, singers, musicians to come!\n",
      "Not to-day is to justify me and answer what I am for,\n",
      "But you, a new brood, native, athletic, continental, greater than before known,\n",
      "Arouse! for you must justify me.\n",
      "\n"
     ]
    }
   ],
   "source": [
    "leaves_of_grass = \"\"\"\n",
    "Poets to come! orators, singers, musicians to come!\n",
    "Not to-day is to justify me and answer what I am for,\n",
    "But you, a new brood, native, athletic, continental, greater than before known,\n",
    "Arouse! for you must justify me.\n",
    "\"\"\"\n",
    "print(leaves_of_grass)"
   ]
  },
  {
   "cell_type": "markdown",
   "metadata": {},
   "source": [
    "In the above example, we assign a famous poet’s words to a variable. Even though the quote contains multiple linebreaks, the code works!\n",
    "If a multi-line string isn’t assigned a variable or used in an expression it is treated as a comment.\n",
    "Assign the string\n",
    "Stranger, if you passing meet me and desire to speak to me, why\n",
    "should you not speak to me?\n",
    "And why should I not speak to you?\n",
    "to the variable to_you."
   ]
  },
  {
   "cell_type": "code",
   "execution_count": 46,
   "metadata": {},
   "outputs": [
    {
     "name": "stdout",
     "output_type": "stream",
     "text": [
      "\n",
      "Stranger, if you passing meet me and desire to speak to me, why should you not speak to me?\n",
      "And why should I not speak to you?\n",
      "\n"
     ]
    }
   ],
   "source": [
    "# Assign the string here\n",
    "to_you = '''\n",
    "Stranger, if you passing meet me and desire to speak to me, why should you not speak to me?\n",
    "And why should I not speak to you?\n",
    "'''\n",
    "print(to_you)"
   ]
  },
  {
   "cell_type": "markdown",
   "metadata": {},
   "source": [
    "### Review\n",
    "In this lesson, we accomplished a lot of things! We instructed our computers to print messages, we stored these messages as variables, and we learned to update those messages depending on the part of the program we were in. We performed mathematical calculations and explored some of the mathematical expressions that Python offers us. We learned about errors and other valuable skills that will continue to serve us as we develop our programming skills.\n",
    "Good job!\n",
    "Create variables:\n",
    "•\tmy_age\n",
    "•\thalf_my_age\n",
    "•\tgreeting\n",
    "•\tname\n",
    "•\tgreeting_with_name\n",
    "Assign values to each using your knowledge of division and concatenation!\n",
    "my_age = 30\n",
    "half_my_age = my_age/2\n",
    "greeting = 'Hello!'\n",
    "name = 'Tawsif!'\n",
    "greeting_with_name = greeting + name"
   ]
  },
  {
   "cell_type": "markdown",
   "metadata": {},
   "source": [
    "# Project: Create Purchasing Information and Receipts for Lovely Loveseats\n",
    "We’ve decided to pursue the dream of small-business ownership and open up a furniture store called Lovely Loveseats for Neat Suites on Fleet Street. With our newfound knowledge of Python programming, we’re going to build a system to help speed up the process of creating receipts for your customers.\n",
    "In this project, we will be storing the names and prices of a furniture store’s catalog in variables. You will then process the total price and item list of customers, printing them to the output terminal.\n"
   ]
  },
  {
   "cell_type": "markdown",
   "metadata": {},
   "source": [
    "### Adding In The Catalog"
   ]
  },
  {
   "cell_type": "code",
   "execution_count": 47,
   "metadata": {},
   "outputs": [],
   "source": [
    "#Let’s add in our first item, the Lovely Loveseat that is the store’s namesake. Create a variable called lovely_loveseat_description and assign to it the following string:\n",
    "\n",
    "lovely_loveseat_description = 'Lovely Loveseat. Tufted polyester blend on wood. 32 inches high x 40 inches wide x 30 inches deep. Red or white.'\n",
    "\n",
    "#Great, now let’s create a price for the loveseat. Create a variable lovely_loveseat_price and set it equal to 254.00.\n",
    "\n",
    "lovely_loveseat_price = 254.00\n",
    "\n",
    "#Let’s extend our inventory with another characteristic piece of furniture! Create a variable called stylish_settee_description and assign to it the following string:\n",
    "\n",
    "stylish_settee_description = 'Stylish Settee. Faux leather on birch. 29.50 inches high x 54.75 inches wide x 28 inches deep. Black.'\n",
    "\n",
    "#Now let’s set the price for our Stylish Settee. Create a variable stylish_settee_price and assign it the value of 180.50.\n",
    "\n",
    "stylish_settee_price = 180.50\n",
    "\n",
    "#Fantastic, we just need one more item before we’re ready for business. Create a new variable called luxurious_lamp_description and assign it the following:\n",
    "\n",
    "luxurious_lamp_description = 'Luxurious Lamp. Glass and iron. 36 inches tall. Brown with cream shade.'\n",
    "\n",
    "#Let’s set the price for this item. Create a variable called luxurious_lamp_price and set it equal to 52.15.\n",
    "\n",
    "luxurious_lamp_price = 52.15\n",
    "\n",
    "#In order to be a business, we should also be calculating sales tax. Let’s store that in a variable as well.\n",
    "\n",
    "sales_tax = .088\n"
   ]
  },
  {
   "cell_type": "markdown",
   "metadata": {},
   "source": [
    "### Our First Customer"
   ]
  },
  {
   "cell_type": "code",
   "execution_count": 48,
   "metadata": {},
   "outputs": [
    {
     "name": "stdout",
     "output_type": "stream",
     "text": [
      "Customer One Items: \n",
      "Lovely Loveseat. Tufted polyester blend on wood. 32 inches high x 40 inches wide x 30 inches deep. Red or white.Luxurious Lamp. Glass and iron. 36 inches tall. Brown with cream shade.\n",
      "Customer One Total: \n",
      "333.09119999999996\n"
     ]
    }
   ],
   "source": [
    "#Our first customer is making their purchase! Let’s keep a running tally of their expenses by defining a variable called customer_one_total. Since they haven’t purchased anything yet, let’s set that variable equal to 0 for now.\n",
    "\n",
    "customer_one_total = 0\n",
    "\n",
    "#We should also keep a list of the descriptions of things they’re purchasing. Create a variable called customer_one_itemization and set that equal to the empty string \"\". We’ll tack on the descriptions to this as they make their purchases.\n",
    "\n",
    "customer_one_itemization = \"\"\n",
    "\n",
    "#Our customer has decided they are going to purchase our Lovely Loveseat! Add the price to customer_one_total.\n",
    "\n",
    "customer_one_total += lovely_loveseat_price\n",
    "\n",
    "#Let’s start keeping track of the items our customer purchased. Add the description of the Lovely Loveseat to customer_one_itemization.\n",
    "\n",
    "customer_one_itemization += lovely_loveseat_description\n",
    "\n",
    "#Our customer has also decided to purchase the Luxurious Lamp! Let’s add the price to the customer’s total.\n",
    "\n",
    "customer_one_total += luxurious_lamp_price\n",
    "\n",
    "#Let’s keep the itemization up-to-date and add the description of the Luxurious Lamp to our itemization.\n",
    "\n",
    "customer_one_itemization += luxurious_lamp_description\n",
    "\n",
    "#They’re ready to check out! Let’s begin by calculating sales tax. Create a variable called customer_one_tax and set it equal to customer_one_total times sales_tax.\n",
    "\n",
    "customer_one_tax = (customer_one_total * sales_tax)\n",
    "\n",
    "#Add the sales tax to the customer’s total cost.\n",
    "\n",
    "customer_one_total += customer_one_tax\n",
    "\n",
    "#Let’s start printing up their receipt! Begin by printing out the heading for their itemization. Print the phrase \"Customer One Items:\".\n",
    "\n",
    "print(\"Customer One Items: \")\n",
    "print(customer_one_itemization)\n",
    "print(\"Customer One Total: \")\n",
    "print(customer_one_total)"
   ]
  },
  {
   "cell_type": "markdown",
   "metadata": {},
   "source": [
    "## LEARN PYTHON: FUNCTIONS"
   ]
  },
  {
   "cell_type": "markdown",
   "metadata": {},
   "source": [
    "Let’s imagine that we are creating a program that greets customers as they enter a grocery store. We want a big screen at the entrance of the store to say:\n",
    "\n",
    "Welcome to Engrossing Grocers.\n",
    "Our special is mandarin oranges.\n",
    "Have fun shopping!\n",
    "We have learned to use print statements for this purpose:\n",
    "\n",
    "print(\"Welcome to Engrossing Grocers.\")\n",
    "print(\"Our special is mandarin oranges.\")\n",
    "print(\"Have fun shopping!\")\n",
    "Every time a customer enters, we call these three lines of code. Even if only 3 or 4 customers come in, that’s a lot of lines of code required."
   ]
  },
  {
   "cell_type": "markdown",
   "metadata": {},
   "source": [
    "In Python, we can make this process easier by assigning these lines of code to a function. We’ll name this function greet_customer. In order to call a function, we use the syntax function_name(). The parentheses are important! They make the code inside the function run. In this example, the function call looks like:\n",
    "\n",
    "greet_customer()\n",
    "Every time we call greet_customer(), we would see:\n",
    "\n",
    "Welcome to Engrossing Grocer's.\n",
    "Our special is mandarin oranges.\n",
    "Have fun shopping!\n",
    "Having this functionality inside greet_customer() is better form, because we have isolated this behavior from the rest of our code. Once we determine that greet_customer() works the way we want, we can reuse it anywhere and be confident that it greets, without having to look at the implementation. We can get the same output, with less repeated code. Repeated code is generally more error prone and harder to understand, so it’s a good goal to reduce the amount of it."
   ]
  },
  {
   "cell_type": "markdown",
   "metadata": {},
   "source": [
    "In script.py, we have made a function for you called sing_song. Call this function once to see what it prints out."
   ]
  },
  {
   "cell_type": "code",
   "execution_count": 2,
   "metadata": {},
   "outputs": [],
   "source": [
    "def sing_song():\n",
    "  print(\"You may say I'm a dreamer\")\n",
    "  print(\"But I'm not the only one\")\n",
    "  print(\"I hope some day you'll join us\")\n",
    "  print(\"And the world will be as one\")"
   ]
  },
  {
   "cell_type": "code",
   "execution_count": 3,
   "metadata": {},
   "outputs": [
    {
     "name": "stdout",
     "output_type": "stream",
     "text": [
      "You may say I'm a dreamer\n",
      "But I'm not the only one\n",
      "I hope some day you'll join us\n",
      "And the world will be as one\n"
     ]
    }
   ],
   "source": [
    "sing_song()"
   ]
  },
  {
   "cell_type": "markdown",
   "metadata": {},
   "source": [
    "Now call sing_song a second time."
   ]
  },
  {
   "cell_type": "code",
   "execution_count": 4,
   "metadata": {},
   "outputs": [
    {
     "name": "stdout",
     "output_type": "stream",
     "text": [
      "You may say I'm a dreamer\n",
      "But I'm not the only one\n",
      "I hope some day you'll join us\n",
      "And the world will be as one\n"
     ]
    }
   ],
   "source": [
    "sing_song()"
   ]
  },
  {
   "cell_type": "markdown",
   "metadata": {},
   "source": [
    "### Write a Function"
   ]
  },
  {
   "cell_type": "markdown",
   "metadata": {},
   "source": [
    "We have seen the value of simple functions for modularizing code. Now we need to understand how to write a function. To write a function, you must have a heading and an indented block of code. The heading starts with the keyword def and the name of the function, followed by parentheses, and a colon. The indented block of code performs some sort of operation. This syntax looks like:\n",
    "\n",
    "def function_name():\n",
    "  some code\n",
    "For our greet_customer() example, the function definition looks like:\n",
    "\n",
    "def greet_customer():\n",
    "  print(\"Welcome to Engrossing Grocers.\")\n",
    "  print(\"Our special is mandarin oranges.\")\n",
    "  print(\"Have fun shopping!\")\n",
    "\n",
    "greet_customer()\n",
    "prints greeting lines\n",
    "The keyword def tells Python that we are defining a function. This function is called greet_customer. Everything that is indented after the : is what is run when greet_customer() is called. So every time we call greet_customer(), the three print statements run."
   ]
  },
  {
   "cell_type": "markdown",
   "metadata": {},
   "source": [
    "Write a function called loading_screen that prints \"This page is loading...\" to the console."
   ]
  },
  {
   "cell_type": "code",
   "execution_count": 7,
   "metadata": {},
   "outputs": [],
   "source": [
    "def loading_screen():\n",
    "    print('This page is loading...')"
   ]
  },
  {
   "cell_type": "markdown",
   "metadata": {},
   "source": [
    "Outside of the function body (unindented), call loading_screen()."
   ]
  },
  {
   "cell_type": "code",
   "execution_count": 8,
   "metadata": {},
   "outputs": [
    {
     "name": "stdout",
     "output_type": "stream",
     "text": [
      "This page is loading...\n"
     ]
    }
   ],
   "source": [
    "loading_screen()"
   ]
  },
  {
   "cell_type": "markdown",
   "metadata": {},
   "source": [
    "### Whitespace"
   ]
  },
  {
   "cell_type": "markdown",
   "metadata": {},
   "source": [
    "Consider this function:\n",
    "\n",
    "def greet_customer():\n",
    "  print(\"Welcome to Engrossing Grocers.\")\n",
    "  print(\"Our special is mandarin oranges.\")\n",
    "  print(\"Have fun shopping!\")\n",
    "The three print statements are all executed together when greet_customer() is called. This is because they have the same level of indentation. In Python, the amount of whitespace tells the computer what is part of a function and what is not part of that function. If we wanted to write another line outside of greet_customer(), we would have to unindent the new line:\n",
    "\n",
    "def greet_customer():\n",
    "  print(\"Welcome to Engrossing Grocers.\")\n",
    "  print(\"Our special is mandarin oranges.\")\n",
    "  print(\"Have fun shopping!\")\n",
    "print(\"Cleanup on Aisle 6\")\n",
    "When we call greet_customer, the message\"Cleanup on Aisle 6\" is not printed, as it is not part of the function.\n",
    "\n",
    "Here at Codecademy, we use 2 spaces for our default indentation. Anything other than that will throw an error when you try to run the program. Many other platforms use 4 spaces. Some people even use tabs! These are all fine. What is important is being consistent throughout the project."
   ]
  },
  {
   "cell_type": "markdown",
   "metadata": {},
   "source": [
    "Run script.py. Look at what is printed out!"
   ]
  },
  {
   "cell_type": "code",
   "execution_count": 9,
   "metadata": {},
   "outputs": [
    {
     "name": "stdout",
     "output_type": "stream",
     "text": [
      "This computer is running on version Everest Puma\n",
      "This is your desktop\n"
     ]
    }
   ],
   "source": [
    "def about_this_computer():\n",
    "  print(\"This computer is running on version Everest Puma\")\n",
    "  print(\"This is your desktop\")\n",
    "\n",
    "about_this_computer()"
   ]
  },
  {
   "cell_type": "markdown",
   "metadata": {},
   "source": [
    "Remove the indent on the second print statement. Run the file. Now what’s printed?"
   ]
  },
  {
   "cell_type": "code",
   "execution_count": 10,
   "metadata": {},
   "outputs": [
    {
     "name": "stdout",
     "output_type": "stream",
     "text": [
      "This is your desktop\n",
      "This computer is running on version Everest Puma\n"
     ]
    }
   ],
   "source": [
    "def about_this_computer():\n",
    "  print(\"This computer is running on version Everest Puma\")\n",
    "print(\"This is your desktop\")\n",
    "\n",
    "about_this_computer()"
   ]
  },
  {
   "cell_type": "markdown",
   "metadata": {},
   "source": [
    "#### Parameters"
   ]
  },
  {
   "cell_type": "markdown",
   "metadata": {},
   "source": [
    "Let’s return to Engrossing Grocers. The special of the day will not always be mandarin oranges, it will change every day. What if we wanted to call these three print statements again, except with a variable special? We can use parameters, which are variables that you can pass into the function when you call it.\n",
    "\n",
    "def greet_customer(special_item):\n",
    "  print(\"Welcome to Engrossing Grocers.\")\n",
    "  print(\"Our special is \" + special_item + \".\")\n",
    "  print(\"Have fun shopping!\")\n",
    "In the definition heading for greet_customer(), the special_item is referred to as a formal parameter. This variable name is a placeholder for the name of the item that is the grocery’s special today. Now, when we call greet_customer, we have to provide a special_item:\n",
    "\n",
    "greet_customer(\"peanut butter\")\n",
    "That item will get printed out in the second print statement:\n",
    "\n",
    "Welcome to Engrossing Grocers.\n",
    "Our special is peanut butter.\n",
    "Have fun shopping!\n",
    "The value between the parentheses when we call the function (in this case, \"peanut butter\") is referred to as an argument of the function call. The argument is the information that is to be used in the execution of the function. When we then call the function, Python assigns the formal parameter name special_item with the actual parameter data, \"peanut_butter\". In other words, it is as if this line was included at the top of the function:\n",
    "\n",
    "special_item = \"peanut butter\"\n",
    "Every time we call greet_customer() with a different value between the parentheses, special_item is assigned to hold that value."
   ]
  },
  {
   "cell_type": "markdown",
   "metadata": {},
   "source": [
    "The function mult_two_add_three() prints a number multiplied by 2 and added to 3. As it is written right now, the number that it operates on is always 5.\n",
    "\n",
    "Call the function and see what it prints to the console."
   ]
  },
  {
   "cell_type": "code",
   "execution_count": 11,
   "metadata": {},
   "outputs": [
    {
     "name": "stdout",
     "output_type": "stream",
     "text": [
      "13\n"
     ]
    }
   ],
   "source": [
    "def mult_two_add_three():\n",
    "  number = 5\n",
    "  print(number*2 + 3)\n",
    "  \n",
    "# Call mult_two_add_three() here:\n",
    "mult_two_add_three()"
   ]
  },
  {
   "cell_type": "markdown",
   "metadata": {},
   "source": [
    "Now, modify the function definition so that it has a parameter called number. Then delete the number = 5 assignment on the first line of the function.\n",
    "\n",
    "Pass the number 1 into your function call."
   ]
  },
  {
   "cell_type": "code",
   "execution_count": 12,
   "metadata": {},
   "outputs": [
    {
     "name": "stdout",
     "output_type": "stream",
     "text": [
      "5\n"
     ]
    }
   ],
   "source": [
    "def mult_two_add_three(number):\n",
    "  print(number*2 + 3)\n",
    "  \n",
    "# Call mult_two_add_three() here:\n",
    "mult_two_add_three(1)"
   ]
  },
  {
   "cell_type": "markdown",
   "metadata": {},
   "source": [
    "Call the function with the value 5 as the argument."
   ]
  },
  {
   "cell_type": "code",
   "execution_count": 13,
   "metadata": {},
   "outputs": [
    {
     "name": "stdout",
     "output_type": "stream",
     "text": [
      "13\n"
     ]
    }
   ],
   "source": [
    "# Call mult_two_add_three() here:\n",
    "mult_two_add_three(5)"
   ]
  },
  {
   "cell_type": "markdown",
   "metadata": {},
   "source": [
    "Call the function with the value -1 as the argument."
   ]
  },
  {
   "cell_type": "code",
   "execution_count": 14,
   "metadata": {},
   "outputs": [
    {
     "name": "stdout",
     "output_type": "stream",
     "text": [
      "1\n"
     ]
    }
   ],
   "source": [
    "# Call mult_two_add_three() here:\n",
    "mult_two_add_three(-1)"
   ]
  },
  {
   "cell_type": "markdown",
   "metadata": {},
   "source": [
    "Call the function with the value 0 as the argument."
   ]
  },
  {
   "cell_type": "code",
   "execution_count": 15,
   "metadata": {},
   "outputs": [
    {
     "name": "stdout",
     "output_type": "stream",
     "text": [
      "3\n"
     ]
    }
   ],
   "source": [
    "# Call mult_two_add_three() here:\n",
    "mult_two_add_three(0)"
   ]
  },
  {
   "cell_type": "markdown",
   "metadata": {},
   "source": [
    "##### Multiple Parameters"
   ]
  },
  {
   "cell_type": "markdown",
   "metadata": {},
   "source": [
    "Our grocery greeting system has gotten popular, and now other supermarkets want to use it. As such, we want to be able to modify both the special item and the name of the grocery store in a greeting like this:\n",
    "\n",
    "Welcome to [grocery store].\n",
    "Our special is [special item].\n",
    "Have fun shopping!\n",
    "We can make a function take more than one parameter by using commas:\n",
    "\n",
    "def greet_customer(grocery_store, special_item):\n",
    "  print(\"Welcome to \"+ grocery_store + \".\")\n",
    "  print(\"Our special is \" + special_item + \".\")\n",
    "  print(\"Have fun shopping!\")\n",
    "The variables grocery_store and special_item must now both be provided to the function upon calling it:\n",
    "\n",
    "greet_customer(\"Stu's Staples\", \"papayas\")\n",
    "which will print:\n",
    "\n",
    "Welcome to Stu's Staples.\n",
    "Our special is papayas.\n",
    "Have fun shopping!"
   ]
  },
  {
   "cell_type": "markdown",
   "metadata": {},
   "source": [
    "The function mult_two_add_three takes a number, multiplies it by two and adds three. We want to make this more flexible. First, change the name of the function to mult_x_add_y."
   ]
  },
  {
   "cell_type": "code",
   "execution_count": 1,
   "metadata": {},
   "outputs": [],
   "source": [
    "def mult_x_add_y(number):\n",
    "  print(number*2 + 3)"
   ]
  },
  {
   "cell_type": "markdown",
   "metadata": {},
   "source": [
    "Now, add x and y as parameters of the function, after number. Inside the function, replace 2 in the print statement with x, and replace 3 in the print statement with y."
   ]
  },
  {
   "cell_type": "code",
   "execution_count": 3,
   "metadata": {},
   "outputs": [],
   "source": [
    "def mult_x_add_y(number, x, y):\n",
    "  print(number*x + y)"
   ]
  },
  {
   "cell_type": "markdown",
   "metadata": {},
   "source": [
    "Call the function with these values:\n",
    "\n",
    "number: 5\n",
    "\n",
    "x: 2\n",
    "\n",
    "y: 3"
   ]
  },
  {
   "cell_type": "code",
   "execution_count": 4,
   "metadata": {},
   "outputs": [
    {
     "name": "stdout",
     "output_type": "stream",
     "text": [
      "13\n"
     ]
    }
   ],
   "source": [
    "mult_x_add_y(5, 2, 3)"
   ]
  },
  {
   "cell_type": "markdown",
   "metadata": {},
   "source": [
    "Call the function with these values:\n",
    "\n",
    "number: 1\n",
    "\n",
    "x: 3\n",
    "\n",
    "y: 1"
   ]
  },
  {
   "cell_type": "code",
   "execution_count": 5,
   "metadata": {},
   "outputs": [
    {
     "name": "stdout",
     "output_type": "stream",
     "text": [
      "4\n"
     ]
    }
   ],
   "source": [
    "mult_x_add_y(1, 3, 1)"
   ]
  },
  {
   "cell_type": "markdown",
   "metadata": {},
   "source": [
    "Keyword Arguments\n",
    "In our greet_customer() function from the last exercise, we had two arguments:\n",
    "\n",
    "def greet_customer(grocery_store, special_item):\n",
    "  print(\"Welcome to \"+ grocery_store + \".\")\n",
    "  print(\"Our special is \" + special_item + \".\")\n",
    "  print(\"Have fun shopping!\")\n",
    "Whichever value is put into greet_customer() first is assigned to grocery_store, and whichever value is put in second is assigned to special_item. These are called positional arguments because their assignments depend on their positions in the function call.\n",
    "\n",
    "We can also pass these arguments as keyword arguments, where we explicitly refer to what each argument is assigned to in the function call.\n",
    "\n",
    "greet_customer(special_item=\"chips and salsa\", grocery_store=\"Stu's Staples\")\n",
    "Welcome to Stu's Staples.\n",
    "Our special is chips and salsa.\n",
    "Have fun shopping!\n",
    "We can use keyword arguments to make it explicit what each of our arguments to a function should refer to in the body of the function itself.\n",
    "\n",
    "We can also define default arguments for a function using syntax very similar to our keyword-argument syntax, but used during the function definition. If the function is called without an argument for that parameter, it relies on the default.\n",
    "\n",
    "def greet_customer(special_item, grocery_store=\"Engrossing Grocers\"):\n",
    "  print(\"Welcome to \"+ grocery_store + \".\")\n",
    "  print(\"Our special is \" + special_item + \".\")\n",
    "  print(\"Have fun shopping!\")\n",
    "In this case, grocery_store has a default value of \"Engrossing Grocers\". If we call the function with only one argument, the value of \"Engrossing Grocers\" is used for grocery_store:\n",
    "\n",
    "greet_customer(\"bananas\")\n",
    "Welcome to Engrossing Grocers.\n",
    "Our special is bananas.\n",
    "Have fun shopping!\n",
    "Once you give an argument a default value (making it a keyword argument), no arguments that follow can be used positionally. For example:\n",
    "\n",
    "def greet_customer(special_item=\"bananas\", grocery_store): # this is not valid\n",
    "  ...\n",
    "\n",
    "def greet_customer(special_item, grocery_store=\"Engrossing Grocers\"): # this is valid\n",
    "  ..."
   ]
  },
  {
   "cell_type": "markdown",
   "metadata": {},
   "source": [
    "We have defined a function create_spreadsheet, which just takes in a title, and prints that it is creating a spreadsheet.\n",
    "\n",
    "Run the code to see the function work on an input of \"Downloads\"."
   ]
  },
  {
   "cell_type": "code",
   "execution_count": 6,
   "metadata": {},
   "outputs": [
    {
     "name": "stdout",
     "output_type": "stream",
     "text": [
      "Creating a spreadsheet called Downloads\n"
     ]
    }
   ],
   "source": [
    "# Define create_spreadsheet():\n",
    "def create_spreadsheet(title):\n",
    "  print(\"Creating a spreadsheet called \"+title)\n",
    "\n",
    "# Call create_spreadsheet() below with the required arguments:\n",
    "create_spreadsheet(\"Downloads\")"
   ]
  },
  {
   "cell_type": "markdown",
   "metadata": {},
   "source": [
    "Add the parameter row_count to the function definition. Set the default value to be 1000."
   ]
  },
  {
   "cell_type": "markdown",
   "metadata": {},
   "source": [
    "Change the print statement in the function to print “Creating a spreadsheet called title with row_count rows”, where title and row_count are replaced with their respective values.\n",
    "\n",
    "Remember, to concatenate a number to a string object, you’ll first have to cast row_count to a string using str(). Otherwise, you’ll get a TypeError."
   ]
  },
  {
   "cell_type": "code",
   "execution_count": 8,
   "metadata": {},
   "outputs": [
    {
     "name": "stdout",
     "output_type": "stream",
     "text": [
      "Creating a spreadsheet called Downloads with 1000 rows\n"
     ]
    }
   ],
   "source": [
    "# Define create_spreadsheet():\n",
    "def create_spreadsheet(title, row_count = 1000):\n",
    "  print(\"Creating a spreadsheet called \"+title+' with '+ str(row_count)+ ' rows')\n",
    "\n",
    "# Call create_spreadsheet() below with the required arguments:\n",
    "create_spreadsheet(\"Downloads\")"
   ]
  },
  {
   "cell_type": "markdown",
   "metadata": {},
   "source": [
    "Call create_spreadsheet() with title set to \"Applications\" and row_count set to 10."
   ]
  },
  {
   "cell_type": "code",
   "execution_count": 9,
   "metadata": {},
   "outputs": [
    {
     "name": "stdout",
     "output_type": "stream",
     "text": [
      "Creating a spreadsheet called Applications with 10 rows\n"
     ]
    }
   ],
   "source": [
    "create_spreadsheet('Applications', row_count = 10)"
   ]
  },
  {
   "cell_type": "markdown",
   "metadata": {},
   "source": [
    "Returns\n",
    "So far, we have only seen functions that print out some result to the console. Functions can also return a value to the user so that this value can be modified or used later. When there is a result from a function that can be stored in a variable, it is called a returned function value. We use the keyword return to do this.\n",
    "\n",
    "Here’s an example of a function divide_by_four that takes an integer argument, divides it by four, and returns the result:\n",
    "\n",
    "def divide_by_four(input_number):\n",
    "  return input_number/4\n",
    "The program that calls divide_by_four can then use the result later:\n",
    "\n",
    "result = divide_by_four(16)\n",
    "result now holds 4\n",
    "print(\"16 divided by 4 is \" + str(result) + \"!\")\n",
    "result2 = divide_by_four(result)\n",
    "print(str(result) + \" divided by 4 is \" + str(result2) + \"!\")\n",
    "This would print out:\n",
    "\n",
    "16 divided by 4 is 4!\n",
    "4 divided by 4 is 1!\n",
    "In this example, we returned a number, but we could also return a String:\n",
    "\n",
    "def create_special_string(special_item):\n",
    "  return \"Our special is \" + special_item + \".\"\n",
    "\n",
    "special_string = create_special_string(\"banana yogurt\")\n",
    "\n",
    "print(special_string)\n",
    "Our special is banana yogurt."
   ]
  },
  {
   "cell_type": "markdown",
   "metadata": {},
   "source": [
    "The function calculate_age in script.py creates a variable called age that is the difference between the current year, and a birth year, both of which are inputs of the function. Add a line to return age."
   ]
  },
  {
   "cell_type": "code",
   "execution_count": 10,
   "metadata": {},
   "outputs": [],
   "source": [
    "def calculate_age(current_year, birth_year):\n",
    "  age = current_year - birth_year\n",
    "  return age"
   ]
  },
  {
   "cell_type": "markdown",
   "metadata": {},
   "source": [
    "Outside of the function, call calculate_age with values 2049 (current_year) and 1993 (birth_year) and save the value to a variable called my_age."
   ]
  },
  {
   "cell_type": "markdown",
   "metadata": {},
   "source": [
    "Call calculate_age with values 2049 (current_year) and 1953 (birth_year) and save the value to a variable called dads_age.\n",
    "\n",
    "Print the string \"I am X years old and my dad is Y years old\" to the console, with my_age where the X is and dads_age where the Y is."
   ]
  },
  {
   "cell_type": "code",
   "execution_count": 11,
   "metadata": {},
   "outputs": [
    {
     "name": "stdout",
     "output_type": "stream",
     "text": [
      "I am 56 years old and my dad is 96 years old\n"
     ]
    }
   ],
   "source": [
    "my_age = calculate_age(2049, 1993)\n",
    "\n",
    "dads_age = calculate_age(2049, 1953)\n",
    "\n",
    "print(\"I am \" + str(my_age) + ' years old and my dad is '+ str(dads_age) + ' years old' )"
   ]
  },
  {
   "cell_type": "markdown",
   "metadata": {},
   "source": [
    "Multiple Return Values\n",
    "Sometimes we may want to return more than one value from a function. We can return several values by separating them with a comma:\n",
    "\n",
    "def square_point(x_value, y_value):\n",
    "  x_2 = x_value * x_value\n",
    "  y_2 = y_value * y_value\n",
    "  return x_2, y_2\n",
    "This function takes in an x value and a y value, and returns them both, squared. We can get those values by assigning them both to variables when we call the function:\n",
    "\n",
    "x_squared, y_squared = square_point(1, 3)\n",
    "print(x_squared)\n",
    "print(y_squared)\n",
    "This will print:\n",
    "\n",
    "1\n",
    "9"
   ]
  },
  {
   "cell_type": "markdown",
   "metadata": {},
   "source": [
    "Write a function called get_boundaries() that takes in two parameters, a number called target and a number called margin.\n",
    "\n",
    "It should create two variables:\n",
    "\n",
    "low_limit: target minus the margin\n",
    "high_limit: margin added to target"
   ]
  },
  {
   "cell_type": "markdown",
   "metadata": {},
   "source": [
    "Return both low_limit and high_limit from the function, in that order.\n",
    "\n",
    "3.\n",
    "Call the function on the target 100 with a margin of 20. Save the returned values to variables called low and high."
   ]
  },
  {
   "cell_type": "code",
   "execution_count": 12,
   "metadata": {},
   "outputs": [],
   "source": [
    "def get_boundaries(target, margin):\n",
    "  low_limit = target - margin\n",
    "  high_limit = margin + target\n",
    "  return low_limit, high_limit\n",
    "\n",
    "low, high = get_boundaries(100, 20)"
   ]
  },
  {
   "cell_type": "markdown",
   "metadata": {},
   "source": [
    "Scope\n",
    "Let’s say we have our function from the last exercise that creates a string about a special item:\n",
    "\n",
    "def create_special_string(special_item):\n",
    "  return \"Our special is \" + special_item + \".\"\n",
    "What if we wanted to access the variable special_item outside of the function? Could we use it?\n",
    "\n",
    "def create_special_string(special_item):\n",
    "  return \"Our special is \" + special_item + \".\"\n",
    "\n",
    "print(\"I don't like \" + special_item)\n",
    "If we try to run this code, we will get a NameError, telling us that 'special_item' is not defined. The variable special_item has only been defined inside the space of a function, so it does not exist outside the function. We call the part of a program where special_item can be accessed its scope. The scope of special_item is only the create_special_string function.\n",
    "\n",
    "Variables defined outside the scope of a function may be accessible inside the body of the function:\n",
    "\n",
    "header_string = \"Our special is \" \n",
    "\n",
    "def create_special_string(special_item):\n",
    "  return header_string + special_item + \".\"\n",
    "print(create_special_string(\"grapes\"))\n",
    "There is no error here. header_string can be used inside the create_special_string function because the scope of header_string is the whole file. This file would produce:\n",
    "\n",
    "Our special is grapes."
   ]
  },
  {
   "cell_type": "markdown",
   "metadata": {},
   "source": [
    "Outside of the function calculate_age(), try to print current_year. Does it work?"
   ]
  },
  {
   "cell_type": "code",
   "execution_count": 13,
   "metadata": {},
   "outputs": [
    {
     "ename": "NameError",
     "evalue": "name 'current_year' is not defined",
     "output_type": "error",
     "traceback": [
      "\u001b[1;31m---------------------------------------------------------------------------\u001b[0m",
      "\u001b[1;31mNameError\u001b[0m                                 Traceback (most recent call last)",
      "\u001b[1;32m<ipython-input-13-84eb07a5d181>\u001b[0m in \u001b[0;36m<module>\u001b[1;34m\u001b[0m\n\u001b[0;32m      3\u001b[0m   \u001b[1;32mreturn\u001b[0m \u001b[0mage\u001b[0m\u001b[1;33m\u001b[0m\u001b[1;33m\u001b[0m\u001b[0m\n\u001b[0;32m      4\u001b[0m \u001b[1;33m\u001b[0m\u001b[0m\n\u001b[1;32m----> 5\u001b[1;33m \u001b[0mprint\u001b[0m\u001b[1;33m(\u001b[0m\u001b[0mcurrent_year\u001b[0m\u001b[1;33m)\u001b[0m\u001b[1;33m\u001b[0m\u001b[1;33m\u001b[0m\u001b[0m\n\u001b[0m\u001b[0;32m      6\u001b[0m \u001b[1;33m\u001b[0m\u001b[0m\n\u001b[0;32m      7\u001b[0m \u001b[1;31m#This won't work as current year doesn't exist outside the function\u001b[0m\u001b[1;33m\u001b[0m\u001b[1;33m\u001b[0m\u001b[1;33m\u001b[0m\u001b[0m\n",
      "\u001b[1;31mNameError\u001b[0m: name 'current_year' is not defined"
     ]
    }
   ],
   "source": [
    "def calculate_age(current_year, birth_year):\n",
    "  age = current_year - birth_year\n",
    "  return age\n",
    "\n",
    "print(current_year)\n",
    "\n",
    "#This won't work as current year doesn't exist outside the function"
   ]
  },
  {
   "cell_type": "markdown",
   "metadata": {},
   "source": [
    "What about age? Outside of calculate_age(), try to print age. Does it work?"
   ]
  },
  {
   "cell_type": "code",
   "execution_count": 14,
   "metadata": {},
   "outputs": [
    {
     "ename": "NameError",
     "evalue": "name 'age' is not defined",
     "output_type": "error",
     "traceback": [
      "\u001b[1;31m---------------------------------------------------------------------------\u001b[0m",
      "\u001b[1;31mNameError\u001b[0m                                 Traceback (most recent call last)",
      "\u001b[1;32m<ipython-input-14-7379010f47e7>\u001b[0m in \u001b[0;36m<module>\u001b[1;34m\u001b[0m\n\u001b[1;32m----> 1\u001b[1;33m \u001b[0mprint\u001b[0m\u001b[1;33m(\u001b[0m\u001b[0mage\u001b[0m\u001b[1;33m)\u001b[0m\u001b[1;33m\u001b[0m\u001b[1;33m\u001b[0m\u001b[0m\n\u001b[0m\u001b[0;32m      2\u001b[0m \u001b[1;31m#This won't work as current year doesn't exist outside the function\u001b[0m\u001b[1;33m\u001b[0m\u001b[1;33m\u001b[0m\u001b[1;33m\u001b[0m\u001b[0m\n",
      "\u001b[1;31mNameError\u001b[0m: name 'age' is not defined"
     ]
    }
   ],
   "source": [
    "print(age)\n",
    "#This won't work as current year doesn't exist outside the function"
   ]
  },
  {
   "cell_type": "markdown",
   "metadata": {},
   "source": [
    "Let’s try something different. Remove the parameter current_year so that it is no longer a parameter of calculate_age()."
   ]
  },
  {
   "cell_type": "markdown",
   "metadata": {},
   "source": [
    "It’s the year 2048.\n",
    "\n",
    "Define current_year as a variable BEFORE defining the function and give it the value 2048. Now, every time calculate_age() is called, it should only take birth_year.\n",
    "\n",
    "6.\n",
    "Try to print current_year one last time. Does it work finally?\n",
    "\n",
    "7.\n",
    "Hooray! Now we have current_year globally defined. Great work!\n",
    "\n",
    "Let’s make sure our function still works: print the value of calculate_age() with 1970 as the argument."
   ]
  },
  {
   "cell_type": "code",
   "execution_count": 15,
   "metadata": {},
   "outputs": [
    {
     "name": "stdout",
     "output_type": "stream",
     "text": [
      "2048\n",
      "78\n"
     ]
    }
   ],
   "source": [
    "current_year = 2048\n",
    "\n",
    "def calculate_age(birth_year):\n",
    "  age = current_year - birth_year\n",
    "  return age\n",
    "\n",
    "print(current_year)\n",
    "\n",
    "print(calculate_age(1970))"
   ]
  },
  {
   "cell_type": "markdown",
   "metadata": {},
   "source": [
    "### Review"
   ]
  },
  {
   "cell_type": "markdown",
   "metadata": {},
   "source": [
    "Great! So far you have learned:\n",
    "\n",
    "How to write a function\n",
    "How to give a function inputs\n",
    "How to return values from a function\n",
    "What scope means\n",
    "Let’s practice these concepts again so that you won’t forget them!"
   ]
  },
  {
   "cell_type": "markdown",
   "metadata": {},
   "source": [
    "Define a function called repeat_stuff that takes in two inputs, stuff, and num_repeats.\n",
    "\n",
    "We will want to make this function print a string with stuff repeated num_repeats amount of times. For now, only put an empty print statement inside the function."
   ]
  },
  {
   "cell_type": "code",
   "execution_count": 17,
   "metadata": {},
   "outputs": [],
   "source": [
    "def repeat_stuff(stuff, num_repeats):\n",
    "  print()"
   ]
  },
  {
   "cell_type": "markdown",
   "metadata": {},
   "source": [
    "Outside of the function, call repeat_stuff.\n",
    "\n",
    "You can use the value \"Row \" for stuff and 3 for num_repeats."
   ]
  },
  {
   "cell_type": "code",
   "execution_count": 18,
   "metadata": {},
   "outputs": [
    {
     "name": "stdout",
     "output_type": "stream",
     "text": [
      "\n"
     ]
    }
   ],
   "source": [
    "repeat_stuff('Row ', 3)"
   ]
  },
  {
   "cell_type": "markdown",
   "metadata": {},
   "source": [
    "Change the print statement inside repeat_stuff to a return statement instead.\n",
    "\n",
    "It should return stuff*num_repeats.\n",
    "\n",
    "Note: Multiplying a string just makes a new string with the old one repeated! For example:\n",
    "\n",
    "\"na\"*6\n",
    "results in the string \"nananananana\"."
   ]
  },
  {
   "cell_type": "code",
   "execution_count": 19,
   "metadata": {},
   "outputs": [
    {
     "data": {
      "text/plain": [
       "'Row Row Row '"
      ]
     },
     "execution_count": 19,
     "metadata": {},
     "output_type": "execute_result"
    }
   ],
   "source": [
    "def repeat_stuff(stuff, num_repeats):\n",
    "  return(stuff*num_repeats)\n",
    "\n",
    "repeat_stuff('Row ', 3)"
   ]
  },
  {
   "cell_type": "markdown",
   "metadata": {},
   "source": [
    "Give the parameter num_repeats a default value of 10."
   ]
  },
  {
   "cell_type": "code",
   "execution_count": 21,
   "metadata": {},
   "outputs": [],
   "source": [
    "def repeat_stuff(stuff, num_repeats = 10):\n",
    "  return(stuff*num_repeats)"
   ]
  },
  {
   "cell_type": "markdown",
   "metadata": {},
   "source": [
    "Add repeat_stuff(\"Row \", 3) and the string \"Your Boat. \" together and save the result to a variable called lyrics."
   ]
  },
  {
   "cell_type": "markdown",
   "metadata": {},
   "source": [
    "Create a variable called song and assign it the value of repeat_stuff called with the singular input lyrics."
   ]
  },
  {
   "cell_type": "code",
   "execution_count": 23,
   "metadata": {},
   "outputs": [],
   "source": [
    "def repeat_stuff(stuff, num_repeats=10):\n",
    "  return(stuff*num_repeats)\n",
    "\n",
    "lyrics = repeat_stuff('Row ', 3) + 'Your Boat. '\n",
    "\n",
    "song = repeat_stuff(lyrics)"
   ]
  },
  {
   "cell_type": "markdown",
   "metadata": {},
   "source": [
    "Print song."
   ]
  },
  {
   "cell_type": "code",
   "execution_count": 24,
   "metadata": {},
   "outputs": [
    {
     "name": "stdout",
     "output_type": "stream",
     "text": [
      "Row Row Row Your Boat. Row Row Row Your Boat. Row Row Row Your Boat. Row Row Row Your Boat. Row Row Row Your Boat. Row Row Row Your Boat. Row Row Row Your Boat. Row Row Row Your Boat. Row Row Row Your Boat. Row Row Row Your Boat. \n"
     ]
    }
   ],
   "source": [
    "print(song)"
   ]
  },
  {
   "cell_type": "markdown",
   "metadata": {},
   "source": [
    "# Project: Getting Ready for Physics Class"
   ]
  },
  {
   "cell_type": "markdown",
   "metadata": {},
   "source": [
    "You are a physics teacher preparing for the upcoming semester. You want to provide your students with some functions that will help them calculate some fundamental physical properties."
   ]
  },
  {
   "cell_type": "code",
   "execution_count": 26,
   "metadata": {},
   "outputs": [],
   "source": [
    "train_mass = 22680\n",
    "train_acceleration = 10\n",
    "train_distance = 100\n",
    "\n",
    "bomb_mass = 1\n",
    "\n",
    "#Write a function called f_to_c that takes an input f_temp, a temperature in Fahrenheit, and converts it to c_temp, that temperature in Celsius.\n",
    "\n",
    "#It should then return c_temp.\n",
    "\n",
    "#The equation you should use is:\n",
    "\n",
    "#Temp (C) = (Temp (F) - 32) * 5/9\n",
    "\n",
    "def f_to_c(f_temp):\n",
    "  c_temp = (f_temp - 32) *5/9\n",
    "  return c_temp\n",
    "\n",
    "#Let’s test your function with a value of 100 Fahrenheit.\n",
    "\n",
    "#Define a variable f100_in_celsius and set it equal to the value of f_to_c with 100 as an input.\n",
    "\n",
    "f100_in_celsius = f_to_c(100)\n",
    "\n",
    "#Write a function called c_to_f that takes an input c_temp, a temperature in Celsius, and converts it to f_temp, that temperature in Fahrenheit.\n",
    "\n",
    "#It should then return f_temp.\n",
    "\n",
    "#The equation you should use is:\n",
    "\n",
    "#Temp (F) = Temp (C) * (9/5) + 32\n",
    "\n",
    "def c_to_f(c_temp):\n",
    "  f_temp = c_temp * (9/5) + 32\n",
    "  return f_temp\n",
    "\n",
    "\n",
    "#Let’s test your function with a value of 0 Celsius.\n",
    "\n",
    "#Define a variable c0_in_fahrenheit and set it equal to the value of c_to_f with 0 as an input.\n",
    "\n",
    "c0_in_farhenheit = c_to_f(0)"
   ]
  },
  {
   "cell_type": "markdown",
   "metadata": {},
   "source": [
    "#### Use the Force"
   ]
  },
  {
   "cell_type": "code",
   "execution_count": 29,
   "metadata": {},
   "outputs": [
    {
     "name": "stdout",
     "output_type": "stream",
     "text": [
      "The GE train supplies 226800 Newtons of force.\n",
      "A 1kg bomb supplies 90000000000000000 Joules\n"
     ]
    }
   ],
   "source": [
    "#Define a function called get_force that takes in mass and acceleration. It should return mass multiplied by acceleration.\n",
    "\n",
    "def get_force(mass, accelration):\n",
    "  return (mass * accelration)\n",
    "\n",
    "#Test get_force by calling it with the variables train_mass and train_acceleration. Save the result to a variable called train_force and print it out.\n",
    "\n",
    "train_force = get_force(train_mass, train_acceleration)\n",
    "\n",
    "#Print the string “The GE train supplies X Newtons of force.”, with X replaced by train_force.\n",
    "\n",
    "print('The GE train supplies ' + str(train_force) + ' Newtons of force.')\n",
    "\n",
    "#Define a function called get_energy that takes in mass and c.\n",
    "\n",
    "#c is a constant that is usually set to the speed of light, which is roughly 3 x 10^8. Set c to have a default value of 3*10**8.\n",
    "\n",
    "#get_energy should return mass multiplied by c squared.\n",
    "\n",
    "def get_energy(mass, c= 3*10**8):\n",
    "  return(mass*(c)**2)\n",
    "\n",
    "#Test get_energy by using it on bomb_mass, with the default value of c. Save the result to a variable called bomb_energy.\n",
    "bomb_energy = get_energy(bomb_mass)\n",
    "\n",
    "#Print the string “A 1kg bomb supplies X Joules.”, with X replaced by bomb_energy.\n",
    "\n",
    "print('A 1kg bomb supplies '+ str(bomb_energy) + ' Joules')\n"
   ]
  },
  {
   "cell_type": "markdown",
   "metadata": {},
   "source": [
    "#### Do the Work"
   ]
  },
  {
   "cell_type": "code",
   "execution_count": 32,
   "metadata": {},
   "outputs": [
    {
     "name": "stdout",
     "output_type": "stream",
     "text": [
      "A 1kg bomb supplies 90000000000000000 Joules\n",
      "The GE train does 22680000 Joules of work over 100 metres\n"
     ]
    }
   ],
   "source": [
    "#Define a function called get_energy that takes in mass and c.\n",
    "\n",
    "#c is a constant that is usually set to the speed of light, which is roughly 3 x 10^8. Set c to have a default value of 3*10**8.\n",
    "\n",
    "#get_energy should return mass multiplied by c squared.\n",
    "\n",
    "def get_energy(mass, c= 3*10**8):\n",
    "  return(mass*(c)**2)\n",
    "\n",
    "#Test get_energy by using it on bomb_mass, with the default value of c. Save the result to a variable called bomb_energy.\n",
    "bomb_energy = get_energy(bomb_mass)\n",
    "\n",
    "#Print the string “A 1kg bomb supplies X Joules.”, with X replaced by bomb_energy.\n",
    "\n",
    "print('A 1kg bomb supplies '+ str(bomb_energy) + ' Joules')\n",
    "\n",
    "#Define a final function called get_work that takes in mass, acceleration, and distance. Work is defined as force multiplied by distance. First, get the force using get_force, then multiply that by distance. Return the result.\n",
    "\n",
    "def get_work(mass, acceleration, distance):\n",
    "  return (get_force(mass, acceleration) * distance)\n",
    "\n",
    "#Test get_work by using it on train_mass, train_acceleration, and train_distance. Save the result to a variable called train_work.\n",
    "train_work = get_work(train_mass, train_acceleration, train_distance)\n",
    "\n",
    "#Print the string \"The GE train does X Joules of work over Y meters.\", with X replaced with train_work and Y replaced with train_distance.\n",
    "\n",
    "print('The GE train does ' + str(train_work) + ' Joules of work over '+ str(train_distance) + ' metres')"
   ]
  },
  {
   "cell_type": "code",
   "execution_count": null,
   "metadata": {},
   "outputs": [],
   "source": []
  }
 ],
 "metadata": {
  "kernelspec": {
   "display_name": "Python 3",
   "language": "python",
   "name": "python3"
  },
  "language_info": {
   "codemirror_mode": {
    "name": "ipython",
    "version": 3
   },
   "file_extension": ".py",
   "mimetype": "text/x-python",
   "name": "python",
   "nbconvert_exporter": "python",
   "pygments_lexer": "ipython3",
   "version": "3.7.3"
  }
 },
 "nbformat": 4,
 "nbformat_minor": 2
}

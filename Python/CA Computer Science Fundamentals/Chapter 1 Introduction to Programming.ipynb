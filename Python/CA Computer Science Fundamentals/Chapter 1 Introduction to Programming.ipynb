{
 "cells": [
  {
   "cell_type": "markdown",
   "metadata": {},
   "source": [
    "# Chapter 1: Introduction to Python Programming"
   ]
  },
  {
   "cell_type": "markdown",
   "metadata": {},
   "source": [
    "### LEARN PYTHON: SYNTAX\n",
    "Welcome\n",
    "Python is a programming language. Like other languages, it gives us a way to communicate ideas. In the case of a programming language, these ideas are “commands” that people use to communicate with a computer!\n",
    "We convey our commands to the computer by writing them in a text file using a programming language. These files are called programs. Running a program means telling a computer to read the text file, translate it to the set of operations that it understands, and perform those actions.\n"
   ]
  },
  {
   "cell_type": "markdown",
   "metadata": {},
   "source": [
    "### Instructions\n",
    "Change Codecademy to your name in the script to the right. Run the code to see what it does! As soon as you’re ready, move on to the next exercise to begin learning to write your own Python programs!\n",
    "Want to quickly review some of the concepts you’ve been learning? Take a look at this material's cheatsheet!\n"
   ]
  },
  {
   "cell_type": "code",
   "execution_count": 2,
   "metadata": {},
   "outputs": [
    {
     "name": "stdout",
     "output_type": "stream",
     "text": [
      "Hello and welcome Tawsif Hasan!\n"
     ]
    }
   ],
   "source": [
    "my_name = \"Tawsif Hasan\"\n",
    "print(\"Hello and welcome \" + my_name + \"!\")\n"
   ]
  },
  {
   "cell_type": "markdown",
   "metadata": {},
   "source": [
    "### Comments\n",
    "Ironically, the first thing we’re going to do is show how to tell a computer to ignore a part of a program. Text written in a program but not run by the computer is called a comment. Python interprets anything after a # as a comment.\n",
    "Comments can:\n",
    "Provide context for why something is written the way it is:\n"
   ]
  },
  {
   "cell_type": "code",
   "execution_count": 4,
   "metadata": {},
   "outputs": [],
   "source": [
    "# This variable will be used to count the number of times anyone tweets the word persnickety\n",
    "persnickety_count = 0"
   ]
  },
  {
   "cell_type": "markdown",
   "metadata": {},
   "source": [
    "Help other people reading the code understand it faster:\n",
    "This code will calculate the likelihood that it will rain tomorrow\n",
    "complicated_rain_calculation_for_tomorrow()\n",
    "Ignore a line of code and see how a program will run without it:\n",
    "useful_value = old_sloppy_code()\n",
    "useful_value = new_clean_code()"
   ]
  },
  {
   "cell_type": "markdown",
   "metadata": {},
   "source": [
    "### Instructions\n",
    "Documentation is an important step in programming. Write a comment describing the first program you want to write!\n",
    "Use a hashtag before a line to use the line as a comment\n",
    "Print\n",
    "Now what we’re going to do is teach our computer to communicate. The gift of speech is valuable: a computer can answer many questions we have about “how” or “why” or “what” it is doing. In Python, the print() function is used to tell a computer to talk. The message to be printed should be surrounded by quotes:"
   ]
  },
  {
   "cell_type": "code",
   "execution_count": 5,
   "metadata": {},
   "outputs": [
    {
     "name": "stdout",
     "output_type": "stream",
     "text": [
      "There is something at work in my soul, which I do not understand.\n"
     ]
    }
   ],
   "source": [
    "# from Mary Shelley's Frankenstein\n",
    "print(\"There is something at work in my soul, which I do not understand.\")\n"
   ]
  },
  {
   "cell_type": "markdown",
   "metadata": {},
   "source": [
    "In the above example, we direct our program to print() an excerpt from a notable book. The printed words that appear as a result of the print() function are referred to as output. The output of this example program would be:\n",
    "There is something at work in my soul, which I do not understand."
   ]
  },
  {
   "cell_type": "markdown",
   "metadata": {},
   "source": [
    "### Instructions\n",
    "Print the distinguished greeting “Hello world!”"
   ]
  },
  {
   "cell_type": "code",
   "execution_count": 6,
   "metadata": {},
   "outputs": [
    {
     "name": "stdout",
     "output_type": "stream",
     "text": [
      "Hello World\n"
     ]
    }
   ],
   "source": [
    "print(\"Hello World\")"
   ]
  },
  {
   "cell_type": "markdown",
   "metadata": {},
   "source": [
    "### Strings\n",
    "Computer programmers refer to blocks of text as strings. In our last exercise, we created the string “Hello world!”. In Python a string is either surrounded by double quotes (\"Hello world\") or single quotes ('Hello world'). It doesn’t matter which kind you use, just be consistent."
   ]
  },
  {
   "cell_type": "markdown",
   "metadata": {},
   "source": [
    "### Instructions\n",
    "Print your name using the print() command."
   ]
  },
  {
   "cell_type": "code",
   "execution_count": 7,
   "metadata": {},
   "outputs": [
    {
     "name": "stdout",
     "output_type": "stream",
     "text": [
      "Tawsif Hasan\n"
     ]
    }
   ],
   "source": [
    "print('Tawsif Hasan')"
   ]
  },
  {
   "cell_type": "markdown",
   "metadata": {},
   "source": [
    "### Variables\n",
    "Programming languages offer a method of storing data for reuse. If there is a greeting we want to present, a date we need to reuse, or a user ID we need to remember we can create a variable which can store a value. In Python, we assign variables by using the equals sign (=).\n",
    "message_string = \"Hello there\""
   ]
  },
  {
   "cell_type": "code",
   "execution_count": 9,
   "metadata": {},
   "outputs": [
    {
     "name": "stdout",
     "output_type": "stream",
     "text": [
      "Hello there\n"
     ]
    }
   ],
   "source": [
    "message_string = \"Hello there\"\n",
    "# Prints \"Hello there\"\n",
    "print(message_string)"
   ]
  },
  {
   "cell_type": "markdown",
   "metadata": {},
   "source": [
    "In the above example, we store the message “Hello there” in a variable called message_string. Variables can’t have spaces or symbols in their names other than an underscore (_). They can’t begin with numbers but they can have numbers after the first letter (e.g., cool_variable_5 is OK).\n",
    "It’s no coincidence we call these creatures “variables”. If the context of a program changes, we can update a variable but perform the same logical process on it."
   ]
  },
  {
   "cell_type": "code",
   "execution_count": 10,
   "metadata": {},
   "outputs": [
    {
     "name": "stdout",
     "output_type": "stream",
     "text": [
      "Hello there\n",
      "Hasta la vista\n"
     ]
    }
   ],
   "source": [
    "# Greeting\n",
    "message_string = \"Hello there\"\n",
    "print(message_string)\n",
    "# Farewell\n",
    "message_string = \"Hasta la vista\"\n",
    "print(message_string)"
   ]
  },
  {
   "cell_type": "markdown",
   "metadata": {},
   "source": [
    "Above, we create the variable message_string, assign a welcome message, and print the greeting. After we greet the user, we want to wish them goodbye. We then update message_string to a departure message and print that out."
   ]
  },
  {
   "cell_type": "markdown",
   "metadata": {},
   "source": [
    "### Instructions\n",
    "Update the variable meal to reflect each meal of the day before we print it."
   ]
  },
  {
   "cell_type": "code",
   "execution_count": 11,
   "metadata": {},
   "outputs": [
    {
     "name": "stdout",
     "output_type": "stream",
     "text": [
      "Breakfast:\n",
      "An english muffin\n",
      "Lunch:\n",
      "Biriyani\n",
      "Dinner:\n",
      "Korean Fried Chicken\n"
     ]
    }
   ],
   "source": [
    "# We've defined the variable \"meal\" here to the name of the food we ate for breakfast!\n",
    "meal = \"An english muffin\"\n",
    "\n",
    "# Printing out breakfast\n",
    "print(\"Breakfast:\")\n",
    "print(meal)\n",
    "\n",
    "# Now update meal to be lunch!\n",
    "meal = \"Biriyani\"\n",
    "\n",
    "# Printing out lunch\n",
    "print(\"Lunch:\")\n",
    "print(meal)\n",
    "\n",
    "# Now update \"meal\" to be dinner\n",
    "meal = \"Korean Fried Chicken\"\n",
    "# Printing out dinner\n",
    "print(\"Dinner:\")\n",
    "print(meal)\n"
   ]
  },
  {
   "cell_type": "markdown",
   "metadata": {},
   "source": [
    "### Errors\n",
    "Humans are prone to making mistakes. Humans are also typically in charge of creating computer programs. To compensate, programming languages attempt to understand and explain mistakes made in their programs.\n",
    "Python refers to these mistakes as errors and will point to the location where an error occurred with a ^ character. When programs throw errors that we didn’t expect to encounter we call those errors bugs. Programmers call the process of updating the program so that it no longer produces unexpected errors debugging.\n",
    "Two common errors that we encounter while writing Python are SyntaxError and NameError.\n",
    "SyntaxError means there is something wrong with the way your program is written — punctuation that does not belong, a command where it is not expected, or a missing parenthesis can all trigger a SyntaxError.\n",
    "A NameError occurs when the Python interpreter sees a word it does not recognize. Code that contains something that looks like a variable but was never defined will throw a NameError."
   ]
  },
  {
   "cell_type": "markdown",
   "metadata": {},
   "source": [
    "### Instructions\n",
    "You might encounter a SyntaxError if you open a string with double quotes and end it with a single quote. Update the string so that it starts and ends with the same punctuation.\n",
    "You might encounter a NameError if you try to print a single word string but fail to put any quotes around it. Python expects the word of your string to be defined elsewhere but can’t find where it’s defined. Add quotes to either side of the string to squash this bug.\n",
    "Update the malformed strings in the workspace to all be strings."
   ]
  },
  {
   "cell_type": "code",
   "execution_count": 12,
   "metadata": {},
   "outputs": [
    {
     "ename": "SyntaxError",
     "evalue": "EOL while scanning string literal (<ipython-input-12-88e514335255>, line 1)",
     "output_type": "error",
     "traceback": [
      "\u001b[1;36m  File \u001b[1;32m\"<ipython-input-12-88e514335255>\"\u001b[1;36m, line \u001b[1;32m1\u001b[0m\n\u001b[1;33m    print('This message has mismatched quote marks!\")\u001b[0m\n\u001b[1;37m                                                     ^\u001b[0m\n\u001b[1;31mSyntaxError\u001b[0m\u001b[1;31m:\u001b[0m EOL while scanning string literal\n"
     ]
    }
   ],
   "source": [
    "print('This message has mismatched quote marks!\")\n",
    "print(Abracadabra)"
   ]
  },
  {
   "cell_type": "markdown",
   "metadata": {},
   "source": [
    "After fixing"
   ]
  },
  {
   "cell_type": "code",
   "execution_count": 13,
   "metadata": {},
   "outputs": [
    {
     "name": "stdout",
     "output_type": "stream",
     "text": [
      "This message has mismatched quote marks!\n",
      "Abracadabra\n"
     ]
    }
   ],
   "source": [
    "print('This message has mismatched quote marks!')\n",
    "print('Abracadabra')"
   ]
  },
  {
   "cell_type": "markdown",
   "metadata": {},
   "source": [
    "### Numbers\n",
    "Computers can understand much more than just strings of text. Python has a few numeric data types. It has multiple ways of storing numbers. Which one you use depends on your intended purpose for the number you are saving.\n",
    "An integer, or int, is a whole number. It has no decimal point and contains all counting numbers (1, 2, 3, …) as well as their negative counterparts and the number 0. If you were counting the number of people in a room, the number of jellybeans in a jar, or the number of keys on a keyboard you would likely use an integer.\n",
    "A floating-point number, or a float, is a decimal number. It can be used to represent fractional quantities as well as precise measurements. If you were measuring the length of your bedroom wall, calculating the average test score of a seventh-grade class, or storing a baseball player’s batting average for the 1998 season you would likely use a float.\n",
    "Numbers can be assigned to variables or used literally in a program:"
   ]
  },
  {
   "cell_type": "code",
   "execution_count": 15,
   "metadata": {},
   "outputs": [
    {
     "name": "stdout",
     "output_type": "stream",
     "text": [
      "5\n"
     ]
    }
   ],
   "source": [
    "an_int = 2\n",
    "a_float = 2.1\n",
    "\n",
    "print(an_int + 3)\n"
   ]
  },
  {
   "cell_type": "markdown",
   "metadata": {},
   "source": [
    "Above we defined an integer and a float as the variables an_int and a_float. We printed out the sum of the variable an_int with the number 3. We call the number 3 here a literal, meaning it’s actually the number 3 and not a variable with the number 3 assigned to it.\n",
    "Floating-point numbers can behave in some unexpected ways due to how computers store them. For more information on floating-point numbers and Python, review Python’s documentation on floating-point limitations."
   ]
  },
  {
   "cell_type": "markdown",
   "metadata": {},
   "source": [
    "### Instructions\n",
    "A recent movie-going experience has you excited to publish a review. You rush out of the cinema and hastily begin programming to create your movie-review website: The Big Screen’s Greatest Scenes Decided By A Machine.\n",
    "Create the following variables and assign integer numbers to them: release_year and runtime."
   ]
  },
  {
   "cell_type": "code",
   "execution_count": 16,
   "metadata": {},
   "outputs": [],
   "source": [
    "# Define the release and runtime integer variables below:\n",
    "release_year = 2001\n",
    "runtime = 2"
   ]
  },
  {
   "cell_type": "markdown",
   "metadata": {},
   "source": [
    "Now, create the variable rating_out_of_10 and assign it a float number between one and ten."
   ]
  },
  {
   "cell_type": "code",
   "execution_count": 17,
   "metadata": {},
   "outputs": [],
   "source": [
    "# Define the rating_out_of_10 float variable below: \n",
    "rating_out_of_10 = 8.2"
   ]
  },
  {
   "cell_type": "markdown",
   "metadata": {},
   "source": [
    "### Calculations\n",
    "Computers absolutely excel at performing calculations. The “compute” in their name comes from their historical association with providing answers to mathematical questions. Python performs addition, subtraction, multiplication, and division with +, -, *, and /."
   ]
  },
  {
   "cell_type": "code",
   "execution_count": 18,
   "metadata": {},
   "outputs": [
    {
     "name": "stdout",
     "output_type": "stream",
     "text": [
      "500\n",
      "50\n",
      "2.0\n"
     ]
    }
   ],
   "source": [
    "# Prints \"500\"\n",
    "print(573 - 74 + 1)\n",
    "\n",
    "# Prints \"50\"\n",
    "print(25 * 2)\n",
    "\n",
    "# Prints \"2.0\"\n",
    "print(10 / 5)"
   ]
  },
  {
   "cell_type": "markdown",
   "metadata": {},
   "source": [
    "Notice that when we perform division, the result has a decimal place. This is because Python converts all ints to floats before performing division. In older versions of Python (2.7 and earlier) this conversion did not happen, and integer division would always round down to the nearest integer.\n",
    "Division can throw its own special error: ZeroDivisionError. Python will raise this error when attempting to divide by 0.\n",
    "Mathematical operations in Python follow the standard mathematical order of operations."
   ]
  },
  {
   "cell_type": "code",
   "execution_count": 19,
   "metadata": {},
   "outputs": [
    {
     "name": "stdout",
     "output_type": "stream",
     "text": [
      "1700.4642857142858\n"
     ]
    }
   ],
   "source": [
    "#Print out the result of this equation: 25 * 68 + 13 / 28\n",
    "print(25 * 68 + 13/28)"
   ]
  },
  {
   "cell_type": "markdown",
   "metadata": {},
   "source": [
    "### Changing Numbers\n",
    "Variables that are assigned numeric values can be treated the same as the numbers themselves. Two variables can be added together, divided by 2, and multiplied by a third variable without Python distinguishing between the variables and literals (like the number 2 in this example). Performing arithmetic on variables does not change the variable — you can only update a variable using the = sign."
   ]
  },
  {
   "cell_type": "code",
   "execution_count": 20,
   "metadata": {},
   "outputs": [
    {
     "name": "stdout",
     "output_type": "stream",
     "text": [
      "6.0\n",
      "1.5\n",
      "4\n",
      "8.0\n",
      "2.0\n",
      "4\n"
     ]
    }
   ],
   "source": [
    "coffee_price = 1.50\n",
    "number_of_coffees = 4\n",
    "\n",
    "# Prints \"6.0\"\n",
    "print(coffee_price * number_of_coffees)\n",
    "# Prints \"1.5\"\n",
    "print(coffee_price)\n",
    "# Prints \"4\"\n",
    "print(number_of_coffees)\n",
    "\n",
    "# Updating the price \n",
    "coffee_price = 2.00\n",
    "\n",
    "# Prints \"8.0\"\n",
    "print(coffee_price * number_of_coffees)\n",
    "# Prints \"2.0\"\n",
    "print(coffee_price)\n",
    "# Prints \"4\"\n",
    "print(number_of_coffees)"
   ]
  },
  {
   "cell_type": "markdown",
   "metadata": {},
   "source": [
    "We create two variables and assign numeric values to them. Then we perform a calculation on them. This doesn’t update the variables! When we update the coffee_price variable and perform the calculations again, they use the updated values for the variable!\n",
    "You’ve decided to get into quilting! To calculate the number of squares you’ll need for your first quilt let’s create two variables: quilt_width and quilt_length. Let’s make this first quilt 8 squares wide and 12 squares long."
   ]
  },
  {
   "cell_type": "code",
   "execution_count": 23,
   "metadata": {},
   "outputs": [
    {
     "name": "stdout",
     "output_type": "stream",
     "text": [
      "96\n"
     ]
    }
   ],
   "source": [
    "quilt_width = 8\n",
    "quilt_length = 12\n",
    "#Print out the number of squares you’ll need to create the quilt!\n",
    "print(quilt_width * quilt_length)"
   ]
  },
  {
   "cell_type": "markdown",
   "metadata": {},
   "source": [
    "It turns out that quilt required a little more material than you have on hand! Let’s only make the quilt 8 squares long. How many squares will you need for this quilt instead?"
   ]
  },
  {
   "cell_type": "code",
   "execution_count": 24,
   "metadata": {},
   "outputs": [
    {
     "name": "stdout",
     "output_type": "stream",
     "text": [
      "64\n"
     ]
    }
   ],
   "source": [
    "quilt_length = 8\n",
    "print(quilt_width * quilt_length)"
   ]
  },
  {
   "cell_type": "markdown",
   "metadata": {},
   "source": [
    "### Exponents\n",
    "Python can also perform exponentiation. In written math, you might see an exponent as a superscript number, but typing superscript numbers isn’t always easy on modern keyboards. Since this operation is so related to multiplication, we use the notation **."
   ]
  },
  {
   "cell_type": "code",
   "execution_count": 25,
   "metadata": {},
   "outputs": [
    {
     "name": "stdout",
     "output_type": "stream",
     "text": [
      "1024\n",
      "64\n",
      "729\n",
      "2.0\n"
     ]
    }
   ],
   "source": [
    "# 2 to the 10th power, or 1024\n",
    "print(2 ** 10)\n",
    "\n",
    "# 8 squared, or 64\n",
    "print(8 ** 2)\n",
    "\n",
    "# 9 * 9 * 9, 9 cubed, or 729\n",
    "print(9 ** 3)\n",
    "\n",
    "# We can even perform fractional exponents\n",
    "# 4 to the half power, or 2\n",
    "print(4 ** 0.5)"
   ]
  },
  {
   "cell_type": "markdown",
   "metadata": {},
   "source": [
    "Here, we compute some simple exponents. We calculate 2 to the 10th power, 8 to the 2nd power, 9 to the 3rd power, and 4 to the 0.5th power.\n",
    "You really like how the square quilts from last exercise came out, and decide that all quilts that you make will be square from now on.\n",
    "Using the exponent operator, print out how many squares you’ll need for a 6x6 quilt, a 7x7 quilt, and an 8x8 quilt."
   ]
  },
  {
   "cell_type": "code",
   "execution_count": 26,
   "metadata": {},
   "outputs": [
    {
     "name": "stdout",
     "output_type": "stream",
     "text": [
      "36\n",
      "49\n",
      "64\n"
     ]
    }
   ],
   "source": [
    "print(6 ** 2)\n",
    "print(7 ** 2)\n",
    "print(8 ** 2)\n"
   ]
  },
  {
   "cell_type": "markdown",
   "metadata": {},
   "source": [
    "Your 6x6 quilts have taken off so well, 6 people have each requested 6 quilts. Print out how many tiles you would need to make 6 quilts apiece for 6 people."
   ]
  },
  {
   "cell_type": "code",
   "execution_count": 27,
   "metadata": {},
   "outputs": [
    {
     "name": "stdout",
     "output_type": "stream",
     "text": [
      "1296\n"
     ]
    }
   ],
   "source": [
    "print(6 ** 4)"
   ]
  },
  {
   "cell_type": "markdown",
   "metadata": {},
   "source": [
    "### Modulo\n",
    "Python offers a companion to the division operator called the modulo operator. The modulo operator is indicated by % and gives the remainder of a division calculation. If the number is divisible, then the result of the modulo operator will be 0."
   ]
  },
  {
   "cell_type": "code",
   "execution_count": 29,
   "metadata": {},
   "outputs": [
    {
     "name": "stdout",
     "output_type": "stream",
     "text": [
      "4\n",
      "2\n",
      "0\n"
     ]
    }
   ],
   "source": [
    "# Prints 4 because 29 / 5 is 5 with a remainder of 4\n",
    "print(29 % 5)\n",
    "\n",
    "# Prints 2 because 32 / 3 is 10 with a remainder of 2\n",
    "print(32 % 3)\n",
    "\n",
    "# Modulo by 2 returns 0 for even numbers and 1 for odd numbers\n",
    "# Prints 0\n",
    "print(44 % 2)"
   ]
  },
  {
   "cell_type": "markdown",
   "metadata": {},
   "source": [
    "Here, we use the modulo operator to find the remainder of division operations. We see that 29 % 5 equals 4, 32 % 3 equals 2, and 44 % 2 equals 0.\n",
    "The modulo operator is useful in programming when we want to perform an action every nth-time the code is run. Can the result of a modulo operation be larger than the divisor? Why or why not?\n",
    "You’re trying to divide a group into four teams. All of you count off, and you get number 27.\n",
    "Find out your team by computing 27 modulo 4. Save the value to my_team."
   ]
  },
  {
   "cell_type": "code",
   "execution_count": 30,
   "metadata": {},
   "outputs": [],
   "source": [
    "my_team = 27 % 4"
   ]
  },
  {
   "cell_type": "markdown",
   "metadata": {},
   "source": [
    "Print out my_team. What number team are you on?\n",
    "Food for thought: what number team are the two people next to you (26 and 28) on? What are the numbers for all 4 teams?"
   ]
  },
  {
   "cell_type": "code",
   "execution_count": 31,
   "metadata": {},
   "outputs": [
    {
     "name": "stdout",
     "output_type": "stream",
     "text": [
      "2\n",
      "0\n"
     ]
    }
   ],
   "source": [
    "print(26%4)\n",
    "print(28%4)"
   ]
  },
  {
   "cell_type": "markdown",
   "metadata": {},
   "source": [
    "### Concatenation\n",
    "The + operator doesn’t just add two numbers, it can also “add” two strings! The process of combining two strings is called string concatenation. Performing string concatenation creates a brand new string comprised of the first string’s contents followed by the second string’s contents (without any added space in-between)."
   ]
  },
  {
   "cell_type": "code",
   "execution_count": 33,
   "metadata": {},
   "outputs": [
    {
     "name": "stdout",
     "output_type": "stream",
     "text": [
      "Hey there!How are you doing?\n"
     ]
    }
   ],
   "source": [
    "greeting_text = \"Hey there!\"\n",
    "question_text = \"How are you doing?\"\n",
    "full_text = greeting_text + question_text\n",
    "\n",
    "# Prints \"Hey there!How are you doing?\"\n",
    "print(full_text)\n"
   ]
  },
  {
   "cell_type": "markdown",
   "metadata": {},
   "source": [
    "In this sample of code, we create two variables that hold strings and then concatenate them. But we notice that the result was missing a space between the two, let’s add the space in-between using the same concatenation operator!"
   ]
  },
  {
   "cell_type": "code",
   "execution_count": 34,
   "metadata": {},
   "outputs": [
    {
     "name": "stdout",
     "output_type": "stream",
     "text": [
      "Hey there! How are you doing?\n"
     ]
    }
   ],
   "source": [
    "full_text = greeting_text + \" \" + question_text\n",
    "# Prints \"Hey there! How are you doing?\"\n",
    "print(full_text)\n"
   ]
  },
  {
   "cell_type": "markdown",
   "metadata": {},
   "source": [
    "Now the code prints the message we expected.\n",
    "If you want to concatenate a string with a number you will need to make the number a string first, using the str() function. If you’re trying to print() a numeric variable you can use commas to pass it as a different argument rather than converting it to a string."
   ]
  },
  {
   "cell_type": "code",
   "execution_count": 35,
   "metadata": {},
   "outputs": [
    {
     "name": "stdout",
     "output_type": "stream",
     "text": [
      "I am 10 years old today!\n",
      "I am  10  years old today!\n"
     ]
    }
   ],
   "source": [
    "birthday_string = \"I am \"\n",
    "age = 10\n",
    "birthday_string_2 = \" years old today!\"\n",
    "\n",
    "# Concatenating an integer with strings is possible if we turn the integer into a string first\n",
    "full_birthday_string = birthday_string + str(age) + birthday_string_2\n",
    "\n",
    "# Prints \"I am 10 years old today!\"\n",
    "print(full_birthday_string)\n",
    "\n",
    "# If we just want to print an integer \n",
    "# we can pass a variable as an argument to \n",
    "# print() regardless of whether \n",
    "# it is a string.\n",
    "\n",
    "# This also prints \"I am 10 years old today!\"\n",
    "print(birthday_string, age, birthday_string_2)"
   ]
  },
  {
   "cell_type": "markdown",
   "metadata": {},
   "source": [
    "Using str() we can convert variables that are not strings to strings and then concatenate them. But we don’t need to convert a number to a string for it to be an argument to a print statement."
   ]
  },
  {
   "cell_type": "code",
   "execution_count": 36,
   "metadata": {},
   "outputs": [
    {
     "name": "stdout",
     "output_type": "stream",
     "text": [
      "The wind, which had hitherto carried us along with amazing rapidity, sank at sunset to a light breeze; the soft air just ruffled the water and caused a pleasant motion among the trees as we approached the shore, from which it wafted the most delightful scent of flowers and hay.\n"
     ]
    }
   ],
   "source": [
    "string1 = \"The wind, \"\n",
    "string2 = \"which had hitherto carried us along with amazing rapidity, \"\n",
    "string3 = \"sank at sunset to a light breeze; \"\n",
    "string4 = \"the soft air just ruffled the water and \"\n",
    "string5 = \"caused a pleasant motion among the trees as we approached the shore, \"\n",
    "string6 = \"from which it wafted the most delightful scent of flowers and hay.\"\n",
    "\n",
    "# Define message below:\n",
    "message = string1 + string2 + string3 + string4 + string5 + string6\n",
    "\n",
    "#print(message)\n",
    "print(message)"
   ]
  },
  {
   "cell_type": "markdown",
   "metadata": {},
   "source": [
    "### Plus Equals\n",
    "Python offers a shorthand for updating variables. When you have a number saved in a variable and want to add to the current value of the variable, you can use the += (plus-equals) operator."
   ]
  },
  {
   "cell_type": "code",
   "execution_count": 37,
   "metadata": {},
   "outputs": [
    {
     "name": "stdout",
     "output_type": "stream",
     "text": [
      "14\n"
     ]
    }
   ],
   "source": [
    "# First we have a variable with a number saved\n",
    "number_of_miles_hiked = 12\n",
    "\n",
    "# Then we need to update that variable\n",
    "# Let's say we hike another two miles today\n",
    "number_of_miles_hiked += 2\n",
    "\n",
    "# The new value is the old value\n",
    "# Plus the number after the plus-equals\n",
    "print(number_of_miles_hiked)\n",
    "# Prints 14"
   ]
  },
  {
   "cell_type": "markdown",
   "metadata": {},
   "source": [
    "Above, we keep a running count of the number of miles a person has gone hiking over time. Instead of recalculating from the start, we keep a grand total and update it when we’ve gone hiking further.\n",
    "The plus-equals operator also can be used for string concatenation, like so:"
   ]
  },
  {
   "cell_type": "code",
   "execution_count": 39,
   "metadata": {},
   "outputs": [
    {
     "name": "stdout",
     "output_type": "stream",
     "text": [
      "What an amazing time to walk through nature! #nofilter #blessed\n"
     ]
    }
   ],
   "source": [
    "hike_caption = \"What an amazing time to walk through nature!\"\n",
    "# Almost forgot the hashtags!\n",
    "hike_caption += \" #nofilter\"\n",
    "hike_caption += \" #blessed\"\n",
    "\n",
    "print(hike_caption)"
   ]
  },
  {
   "cell_type": "markdown",
   "metadata": {},
   "source": [
    "We create the social media caption for the photograph of nature we took on our hike, but then update the caption to include important social media tags we almost forgot.\n",
    "We’re doing a little bit of online shopping and find a pair of new sneakers. Right before we check out, we spot a nice sweater and some fun books we also want to purchase!\n",
    "Use the += operator to update the total_price to include the prices of nice_sweater and fun_books.\n",
    "The prices (also included in the workspace) are:\n",
    "new_sneakers = 50.00\n",
    "nice_sweater = 39.00\n",
    "fun_books = 20.00"
   ]
  },
  {
   "cell_type": "code",
   "execution_count": 41,
   "metadata": {},
   "outputs": [
    {
     "name": "stdout",
     "output_type": "stream",
     "text": [
      "The total price is 109.0\n"
     ]
    }
   ],
   "source": [
    "total_price = 0\n",
    "new_sneakers = 50.00\n",
    "total_price += new_sneakers\n",
    "nice_sweater = 39.00\n",
    "fun_books = 20.00\n",
    "# Update total_price here:\n",
    "total_price += fun_books + nice_sweater\n",
    "print(\"The total price is\", total_price)"
   ]
  },
  {
   "cell_type": "markdown",
   "metadata": {},
   "source": [
    "### Multi-line Strings\n",
    "Python strings are very flexible, but if we try to create a string that occupies multiple lines we find ourselves face-to-face with a SyntaxError. Python offers a solution: multi-line strings. By using three quote-marks (\"\"\" or ''') instead of one, we tell the program that the string doesn’t end until the next triple-quote. This method is useful if the string being defined contains a lot of quotation marks and we want to be sure we don’t close it prematurely."
   ]
  },
  {
   "cell_type": "code",
   "execution_count": 45,
   "metadata": {},
   "outputs": [
    {
     "name": "stdout",
     "output_type": "stream",
     "text": [
      "\n",
      "Poets to come! orators, singers, musicians to come!\n",
      "Not to-day is to justify me and answer what I am for,\n",
      "But you, a new brood, native, athletic, continental, greater than before known,\n",
      "Arouse! for you must justify me.\n",
      "\n"
     ]
    }
   ],
   "source": [
    "leaves_of_grass = \"\"\"\n",
    "Poets to come! orators, singers, musicians to come!\n",
    "Not to-day is to justify me and answer what I am for,\n",
    "But you, a new brood, native, athletic, continental, greater than before known,\n",
    "Arouse! for you must justify me.\n",
    "\"\"\"\n",
    "print(leaves_of_grass)"
   ]
  },
  {
   "cell_type": "markdown",
   "metadata": {},
   "source": [
    "In the above example, we assign a famous poet’s words to a variable. Even though the quote contains multiple linebreaks, the code works!\n",
    "If a multi-line string isn’t assigned a variable or used in an expression it is treated as a comment.\n",
    "Assign the string\n",
    "Stranger, if you passing meet me and desire to speak to me, why\n",
    "should you not speak to me?\n",
    "And why should I not speak to you?\n",
    "to the variable to_you."
   ]
  },
  {
   "cell_type": "code",
   "execution_count": 46,
   "metadata": {},
   "outputs": [
    {
     "name": "stdout",
     "output_type": "stream",
     "text": [
      "\n",
      "Stranger, if you passing meet me and desire to speak to me, why should you not speak to me?\n",
      "And why should I not speak to you?\n",
      "\n"
     ]
    }
   ],
   "source": [
    "# Assign the string here\n",
    "to_you = '''\n",
    "Stranger, if you passing meet me and desire to speak to me, why should you not speak to me?\n",
    "And why should I not speak to you?\n",
    "'''\n",
    "print(to_you)"
   ]
  },
  {
   "cell_type": "markdown",
   "metadata": {},
   "source": [
    "### Review\n",
    "In this lesson, we accomplished a lot of things! We instructed our computers to print messages, we stored these messages as variables, and we learned to update those messages depending on the part of the program we were in. We performed mathematical calculations and explored some of the mathematical expressions that Python offers us. We learned about errors and other valuable skills that will continue to serve us as we develop our programming skills.\n",
    "Good job!\n",
    "Create variables:\n",
    "•\tmy_age\n",
    "•\thalf_my_age\n",
    "•\tgreeting\n",
    "•\tname\n",
    "•\tgreeting_with_name\n",
    "Assign values to each using your knowledge of division and concatenation!\n",
    "my_age = 30\n",
    "half_my_age = my_age/2\n",
    "greeting = 'Hello!'\n",
    "name = 'Tawsif!'\n",
    "greeting_with_name = greeting + name"
   ]
  },
  {
   "cell_type": "markdown",
   "metadata": {},
   "source": [
    "# Project: Create Purchasing Information and Receipts for Lovely Loveseats\n",
    "We’ve decided to pursue the dream of small-business ownership and open up a furniture store called Lovely Loveseats for Neat Suites on Fleet Street. With our newfound knowledge of Python programming, we’re going to build a system to help speed up the process of creating receipts for your customers.\n",
    "In this project, we will be storing the names and prices of a furniture store’s catalog in variables. You will then process the total price and item list of customers, printing them to the output terminal.\n"
   ]
  },
  {
   "cell_type": "markdown",
   "metadata": {},
   "source": [
    "### Adding In The Catalog"
   ]
  },
  {
   "cell_type": "code",
   "execution_count": 47,
   "metadata": {},
   "outputs": [],
   "source": [
    "#Let’s add in our first item, the Lovely Loveseat that is the store’s namesake. Create a variable called lovely_loveseat_description and assign to it the following string:\n",
    "\n",
    "lovely_loveseat_description = 'Lovely Loveseat. Tufted polyester blend on wood. 32 inches high x 40 inches wide x 30 inches deep. Red or white.'\n",
    "\n",
    "#Great, now let’s create a price for the loveseat. Create a variable lovely_loveseat_price and set it equal to 254.00.\n",
    "\n",
    "lovely_loveseat_price = 254.00\n",
    "\n",
    "#Let’s extend our inventory with another characteristic piece of furniture! Create a variable called stylish_settee_description and assign to it the following string:\n",
    "\n",
    "stylish_settee_description = 'Stylish Settee. Faux leather on birch. 29.50 inches high x 54.75 inches wide x 28 inches deep. Black.'\n",
    "\n",
    "#Now let’s set the price for our Stylish Settee. Create a variable stylish_settee_price and assign it the value of 180.50.\n",
    "\n",
    "stylish_settee_price = 180.50\n",
    "\n",
    "#Fantastic, we just need one more item before we’re ready for business. Create a new variable called luxurious_lamp_description and assign it the following:\n",
    "\n",
    "luxurious_lamp_description = 'Luxurious Lamp. Glass and iron. 36 inches tall. Brown with cream shade.'\n",
    "\n",
    "#Let’s set the price for this item. Create a variable called luxurious_lamp_price and set it equal to 52.15.\n",
    "\n",
    "luxurious_lamp_price = 52.15\n",
    "\n",
    "#In order to be a business, we should also be calculating sales tax. Let’s store that in a variable as well.\n",
    "\n",
    "sales_tax = .088\n"
   ]
  },
  {
   "cell_type": "markdown",
   "metadata": {},
   "source": [
    "### Our First Customer"
   ]
  },
  {
   "cell_type": "code",
   "execution_count": 48,
   "metadata": {},
   "outputs": [
    {
     "name": "stdout",
     "output_type": "stream",
     "text": [
      "Customer One Items: \n",
      "Lovely Loveseat. Tufted polyester blend on wood. 32 inches high x 40 inches wide x 30 inches deep. Red or white.Luxurious Lamp. Glass and iron. 36 inches tall. Brown with cream shade.\n",
      "Customer One Total: \n",
      "333.09119999999996\n"
     ]
    }
   ],
   "source": [
    "#Our first customer is making their purchase! Let’s keep a running tally of their expenses by defining a variable called customer_one_total. Since they haven’t purchased anything yet, let’s set that variable equal to 0 for now.\n",
    "\n",
    "customer_one_total = 0\n",
    "\n",
    "#We should also keep a list of the descriptions of things they’re purchasing. Create a variable called customer_one_itemization and set that equal to the empty string \"\". We’ll tack on the descriptions to this as they make their purchases.\n",
    "\n",
    "customer_one_itemization = \"\"\n",
    "\n",
    "#Our customer has decided they are going to purchase our Lovely Loveseat! Add the price to customer_one_total.\n",
    "\n",
    "customer_one_total += lovely_loveseat_price\n",
    "\n",
    "#Let’s start keeping track of the items our customer purchased. Add the description of the Lovely Loveseat to customer_one_itemization.\n",
    "\n",
    "customer_one_itemization += lovely_loveseat_description\n",
    "\n",
    "#Our customer has also decided to purchase the Luxurious Lamp! Let’s add the price to the customer’s total.\n",
    "\n",
    "customer_one_total += luxurious_lamp_price\n",
    "\n",
    "#Let’s keep the itemization up-to-date and add the description of the Luxurious Lamp to our itemization.\n",
    "\n",
    "customer_one_itemization += luxurious_lamp_description\n",
    "\n",
    "#They’re ready to check out! Let’s begin by calculating sales tax. Create a variable called customer_one_tax and set it equal to customer_one_total times sales_tax.\n",
    "\n",
    "customer_one_tax = (customer_one_total * sales_tax)\n",
    "\n",
    "#Add the sales tax to the customer’s total cost.\n",
    "\n",
    "customer_one_total += customer_one_tax\n",
    "\n",
    "#Let’s start printing up their receipt! Begin by printing out the heading for their itemization. Print the phrase \"Customer One Items:\".\n",
    "\n",
    "print(\"Customer One Items: \")\n",
    "print(customer_one_itemization)\n",
    "print(\"Customer One Total: \")\n",
    "print(customer_one_total)"
   ]
  },
  {
   "cell_type": "code",
   "execution_count": null,
   "metadata": {},
   "outputs": [],
   "source": []
  }
 ],
 "metadata": {
  "kernelspec": {
   "display_name": "Python 3",
   "language": "python",
   "name": "python3"
  },
  "language_info": {
   "codemirror_mode": {
    "name": "ipython",
    "version": 3
   },
   "file_extension": ".py",
   "mimetype": "text/x-python",
   "name": "python",
   "nbconvert_exporter": "python",
   "pygments_lexer": "ipython3",
   "version": "3.7.3"
  }
 },
 "nbformat": 4,
 "nbformat_minor": 2
}
